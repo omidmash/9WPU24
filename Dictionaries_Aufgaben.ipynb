{
 "cells": [
  {
   "metadata": {},
   "cell_type": "markdown",
   "source": [
    "# Person:\n",
    " Verwende ein Dictionary, um Informationen über eine Person zu speichern, die du kennst. Speichere deren Vornamen, Nachnamen, Alter und die Stadt, in der sie lebt. Die Keys sollten first_name, last_name, age und city sein. Gib jede Information, die im Dictionary gespeichert sind, aus."
   ],
   "id": "5e912f1a27be9ebd"
  },
  {
   "metadata": {
    "ExecuteTime": {
     "end_time": "2025-01-23T11:13:32.723863Z",
     "start_time": "2025-01-23T11:13:32.720457Z"
    }
   },
   "cell_type": "code",
   "source": [
    "person = {'first_name' : 'John', 'last_name' : 'Doe', 'age' : 30, 'city' : 'New York'}\n",
    "print(person['first_name'])\n",
    "print(person['last_name'])\n",
    "print(person['age'])\n",
    "print(person['city'])\n",
    "\n",
    "print(f\"My name is {person['first_name']} {person['last_name']}. I am {person['age']} years old and live in {person['city']}.\")\n"
   ],
   "id": "3c342d97fc000bd",
   "outputs": [
    {
     "name": "stdout",
     "output_type": "stream",
     "text": [
      "John\n",
      "Doe\n",
      "30\n",
      "New York\n",
      "My name is John Doe. I am 30 years old and live in New York.\n"
     ]
    }
   ],
   "execution_count": 12
  },
  {
   "metadata": {},
   "cell_type": "markdown",
   "source": [
    "# Lieblingszahlen:\n",
    " Verwende ein Dictionary, um die Lieblingszahlen von fünf Personen zu speichern. Denke dir fünf Namen aus und verwende diese als Keys in deinem Dictionary. Denke dir eine Lieblingszahl für jede Person aus und speichere sie als Wert (Value) in deinem Dictionary. Gib den Namen jeder Person und ihre Lieblingszahl aus. Noch mehr Spaß macht es, ein paar Freunde zu befragen und deren tatsächliche Lieblingszahlen für dein Programm zu verwenden."
   ],
   "id": "e99eae23ca755f7a"
  },
  {
   "metadata": {
    "ExecuteTime": {
     "end_time": "2025-01-23T11:32:42.330229Z",
     "start_time": "2025-01-23T11:32:42.327033Z"
    }
   },
   "cell_type": "code",
   "source": [
    "lieblingszahlen = {\n",
    "    \"Omid\": 7,\n",
    "    \"Sarah\": 12,\n",
    "    \"Max\": 23,\n",
    "    \"Lisa\": 42,\n",
    "    \"John\": 5\n",
    "}\n",
    "# print(f\"Omid liebt {lieblingszahlen['Omid']}\")\n",
    "# print(f\"Sarah liebt {lieblingszahlen['Sarah']}\")\n",
    "# print(f\"Max liebt {lieblingszahlen['Max']}\")\n",
    "# print(f\"Lisa liebt {lieblingszahlen['Lisa']}\")\n",
    "\n",
    "for name, number in lieblingszahlen.items():\n",
    "    print(f\"{name}: {number}\")"
   ],
   "id": "796dcc77111cfab6",
   "outputs": [
    {
     "name": "stdout",
     "output_type": "stream",
     "text": [
      "Omid: 7\n",
      "Sarah: 12\n",
      "Max: 23\n",
      "Lisa: 42\n",
      "John: 5\n"
     ]
    }
   ],
   "execution_count": 17
  },
  {
   "metadata": {},
   "cell_type": "markdown",
   "source": [
    "# Glossar:\n",
    " Ein Python-Dictionary kann verwendet werden, um ein tatsächliches Wörterbuch zu modellieren. Um Verwirrung zu vermeiden, nennen wir es ein Glossar.\n",
    "\n",
    "•\tDenke an fünf Programmierschlagwörter (z.B. Variable, List, usw.), die du in den letzten Kapiteln gelernt hast. Verwende diese Wörter als Schlüssel in deinem Glossar und speichere ihre Bedeutungen als Werte.\n",
    "\n",
    "•\tGib jedes Wort und seine Bedeutung sauber formatiert aus. Du könntest das Wort gefolgt von einem Doppelpunkt und dann seiner Bedeutung ausgeben oder das Wort in einer Zeile und seine Bedeutung eingerückt in einer zweiten Zeile. Verwende das Zeichen \\n, um eine Leerzeile zwischen jedem Wort-Bedeutung-Paar in der Ausgabe einzufügen."
   ],
   "id": "7331915eb29d9e3f"
  },
  {
   "metadata": {
    "ExecuteTime": {
     "end_time": "2025-01-23T11:35:21.629699Z",
     "start_time": "2025-01-23T11:35:21.626388Z"
    }
   },
   "cell_type": "code",
   "source": [
    "glossary = {\n",
    "  \"Variable\": \"Ein Speicherort für Daten.\",\n",
    "  \"Schleife\": \"Eine Struktur, die Codeblöcke wiederholt.\",\n",
    "  \"Funktion\": \"Eine wiederverwendbare Codeeinheit.\",\n",
    "  \"Liste\": \"Eine Sammlung von Elementen.\",\n",
    "  \"Dictionary\": \"Eine Sammlung von Schlüssel-Wert-Paaren.\"\n",
    "}\n",
    "\n",
    "for word, meaning in glossary.items():\n",
    "    print(f\"{word}:\\n {meaning}\\n\")\n"
   ],
   "id": "bc2cf1b607ff00b6",
   "outputs": [
    {
     "name": "stdout",
     "output_type": "stream",
     "text": [
      "Variable:\n",
      " Ein Speicherort für Daten.\n",
      "\n",
      "Schleife:\n",
      " Eine Struktur, die Codeblöcke wiederholt.\n",
      "\n",
      "Funktion:\n",
      " Eine wiederverwendbare Codeeinheit.\n",
      "\n",
      "Liste:\n",
      " Eine Sammlung von Elementen.\n",
      "\n",
      "Dictionary:\n",
      " Eine Sammlung von Schlüssel-Wert-Paaren.\n",
      "\n"
     ]
    }
   ],
   "execution_count": 19
  }
 ],
 "metadata": {
  "kernelspec": {
   "display_name": "Python 3",
   "language": "python",
   "name": "python3"
  },
  "language_info": {
   "codemirror_mode": {
    "name": "ipython",
    "version": 2
   },
   "file_extension": ".py",
   "mimetype": "text/x-python",
   "name": "python",
   "nbconvert_exporter": "python",
   "pygments_lexer": "ipython2",
   "version": "2.7.6"
  }
 },
 "nbformat": 4,
 "nbformat_minor": 5
}
