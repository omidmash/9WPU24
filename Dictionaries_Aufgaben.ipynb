{
 "cells": [
  {
   "metadata": {},
   "cell_type": "markdown",
   "source": [
    "# Person:\n",
    " Verwende ein Dictionary, um Informationen über eine Person zu speichern, die du kennst. Speichere deren Vornamen, Nachnamen, Alter und die Stadt, in der sie lebt. Die Keys sollten first_name, last_name, age und city sein. Gib jede Information, die im Dictionary gespeichert sind, aus."
   ],
   "id": "5e912f1a27be9ebd"
  },
  {
   "metadata": {},
   "cell_type": "code",
   "source": "",
   "id": "3c342d97fc000bd",
   "outputs": [],
   "execution_count": null
  },
  {
   "metadata": {},
   "cell_type": "markdown",
   "source": [
    "# Lieblingszahlen:\n",
    " Verwende ein Dictionary, um die Lieblingszahlen von fünf Personen zu speichern. Denke dir fünf Namen aus und verwende diese als Keys in deinem Dictionary. Denke dir eine Lieblingszahl für jede Person aus und speichere sie als Wert (Value) in deinem Dictionary. Gib den Namen jeder Person und ihre Lieblingszahl aus. Noch mehr Spaß macht es, ein paar Freunde zu befragen und deren tatsächliche Lieblingszahlen für dein Programm zu verwenden."
   ],
   "id": "e99eae23ca755f7a"
  },
  {
   "metadata": {},
   "cell_type": "code",
   "source": "",
   "id": "796dcc77111cfab6",
   "outputs": [],
   "execution_count": null
  },
  {
   "metadata": {},
   "cell_type": "markdown",
   "source": [
    "# Glossar:\n",
    " Ein Python-Dictionary kann verwendet werden, um ein tatsächliches Wörterbuch zu modellieren. Um Verwirrung zu vermeiden, nennen wir es ein Glossar.\n",
    "\n",
    "•\tDenke an fünf Programmierschlagwörter (z.B. Variable, List, usw.), die du in den letzten Kapiteln gelernt hast. Verwende diese Wörter als Schlüssel in deinem Glossar und speichere ihre Bedeutungen als Werte.\n",
    "\n",
    "•\tGib jedes Wort und seine Bedeutung sauber formatiert aus. Du könntest das Wort gefolgt von einem Doppelpunkt und dann seiner Bedeutung ausgeben oder das Wort in einer Zeile und seine Bedeutung eingerückt in einer zweiten Zeile. Verwende das Zeichen \\n, um eine Leerzeile zwischen jedem Wort-Bedeutung-Paar in der Ausgabe einzufügen."
   ],
   "id": "7331915eb29d9e3f"
  },
  {
   "metadata": {},
   "cell_type": "code",
   "source": "",
   "id": "bc2cf1b607ff00b6",
   "outputs": [],
   "execution_count": null
  }
 ],
 "metadata": {
  "kernelspec": {
   "display_name": "Python 3",
   "language": "python",
   "name": "python3"
  },
  "language_info": {
   "codemirror_mode": {
    "name": "ipython",
    "version": 2
   },
   "file_extension": ".py",
   "mimetype": "text/x-python",
   "name": "python",
   "nbconvert_exporter": "python",
   "pygments_lexer": "ipython2",
   "version": "2.7.6"
  }
 },
 "nbformat": 4,
 "nbformat_minor": 5
}
