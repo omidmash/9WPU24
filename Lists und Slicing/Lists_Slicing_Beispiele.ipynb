{
 "cells": [
  {
   "metadata": {},
   "cell_type": "markdown",
   "source": "# List Slicing",
   "id": "4d1ebc292271421d"
  },
  {
   "cell_type": "code",
   "id": "initial_id",
   "metadata": {
    "collapsed": true,
    "ExecuteTime": {
     "end_time": "2025-02-13T11:06:04.402038Z",
     "start_time": "2025-02-13T11:06:04.399738Z"
    }
   },
   "source": [
    "numbers = [2, 4, 6, 8, 10]\n",
    "# print(numbers)\n",
    "# print(numbers[0])\n",
    "# print(numbers[2])\n",
    "# print(numbers[1:4])\n",
    "# print(numbers[-1])\n",
    "print(numbers[1:])"
   ],
   "outputs": [
    {
     "name": "stdout",
     "output_type": "stream",
     "text": [
      "[4, 6, 8, 10]\n"
     ]
    }
   ],
   "execution_count": 6
  },
  {
   "metadata": {
    "ExecuteTime": {
     "end_time": "2025-02-13T11:12:58.483143Z",
     "start_time": "2025-02-13T11:12:58.480579Z"
    }
   },
   "cell_type": "code",
   "source": [
    "cars = ['BMW', 'Audi', 'Mercedes', 'Volvo']\n",
    "# print(cars)\n",
    "# print(cars[1])\n",
    "# print(cars[1:3])\n",
    "# print(cars[-5])\n",
    "# print(cars[1:-1])\n",
    "# print(cars[0:-1:2])\n",
    "print(cars[1:3:2])"
   ],
   "id": "c827e60b76b2c652",
   "outputs": [
    {
     "name": "stdout",
     "output_type": "stream",
     "text": [
      "['Audi']\n"
     ]
    }
   ],
   "execution_count": 17
  },
  {
   "metadata": {
    "ExecuteTime": {
     "end_time": "2025-02-13T11:19:30.810477Z",
     "start_time": "2025-02-13T11:19:30.808059Z"
    }
   },
   "cell_type": "code",
   "source": [
    "lotsofnumbers = list(range(1, 101))\n",
    "# print(lotsofnumbers)\n",
    "# print(len(lotsofnumbers))\n",
    "# print(lotsofnumbers[99])\n",
    "# print(lotsofnumbers[1:100:2])\n",
    "# print(lotsofnumbers[1:99:2])\n",
    "# print(lotsofnumbers[0:100:3])\n",
    "print(lotsofnumbers[:51:4])"
   ],
   "id": "748e8f649a3030ad",
   "outputs": [
    {
     "name": "stdout",
     "output_type": "stream",
     "text": [
      "[1, 5, 9, 13, 17, 21, 25, 29, 33, 37, 41, 45, 49]\n"
     ]
    }
   ],
   "execution_count": 26
  },
  {
   "metadata": {
    "ExecuteTime": {
     "end_time": "2025-02-13T11:21:06.979274Z",
     "start_time": "2025-02-13T11:21:06.976834Z"
    }
   },
   "cell_type": "code",
   "source": [
    "fruits = ['banana', 'apple', 'mango', 'grapes', 'pineapple', 'peach']\n",
    "# print(fruits)\n",
    "# print(fruits[1:3])\n",
    "# print(fruits[1::2])\n",
    "# print(fruits[0].upper())\n",
    "print(fruits[-1].title())"
   ],
   "id": "6b6903a357a0b6a6",
   "outputs": [
    {
     "name": "stdout",
     "output_type": "stream",
     "text": [
      "Peach\n"
     ]
    }
   ],
   "execution_count": 31
  },
  {
   "metadata": {},
   "cell_type": "code",
   "source": [
    "names = ['max', 'john', 'peter', 'gary', 'michael']\n",
    "print(names)\n",
    "print(\"Hallo \" + names[0].title() + \", wie geht es dir?\")"
   ],
   "id": "19f29e1c4a8c26f9",
   "outputs": [],
   "execution_count": null
  },
  {
   "metadata": {},
   "cell_type": "code",
   "source": "",
   "id": "953a9511c6a6a736",
   "outputs": [],
   "execution_count": null
  }
 ],
 "metadata": {
  "kernelspec": {
   "display_name": "Python 3",
   "language": "python",
   "name": "python3"
  },
  "language_info": {
   "codemirror_mode": {
    "name": "ipython",
    "version": 2
   },
   "file_extension": ".py",
   "mimetype": "text/x-python",
   "name": "python",
   "nbconvert_exporter": "python",
   "pygments_lexer": "ipython2",
   "version": "2.7.6"
  }
 },
 "nbformat": 4,
 "nbformat_minor": 5
}
