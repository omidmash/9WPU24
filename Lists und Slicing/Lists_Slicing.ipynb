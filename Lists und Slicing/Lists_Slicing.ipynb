{
 "cells": [
  {
   "metadata": {},
   "cell_type": "markdown",
   "source": "# List Slicing",
   "id": "841654120bad62c2"
  },
  {
   "cell_type": "code",
   "id": "initial_id",
   "metadata": {
    "collapsed": true
   },
   "source": [
    "numbers = list(range(0, 100))\n",
    "print(numbers)"
   ],
   "outputs": [],
   "execution_count": null
  },
  {
   "metadata": {},
   "cell_type": "markdown",
   "source": "## Gerade Zahlen",
   "id": "b439158c443c7c31"
  },
  {
   "metadata": {},
   "cell_type": "code",
   "source": "print(numbers[2::2])",
   "id": "64ad56693c718193",
   "outputs": [],
   "execution_count": null
  },
  {
   "metadata": {},
   "cell_type": "markdown",
   "source": "## Ungerade Zahlen",
   "id": "9ab9bbf33bd27f90"
  },
  {
   "metadata": {},
   "cell_type": "code",
   "source": "print(numbers[1::2])",
   "id": "e7fb4b93989219b5",
   "outputs": [],
   "execution_count": null
  },
  {
   "metadata": {},
   "cell_type": "markdown",
   "source": "## Perfekt durch 5 teilbar",
   "id": "4e4826e8c1850ace"
  },
  {
   "metadata": {
    "ExecuteTime": {
     "end_time": "2025-02-13T11:23:24.767692Z",
     "start_time": "2025-02-13T11:23:24.764455Z"
    }
   },
   "cell_type": "code",
   "source": [
    "print(numbers[5::5])\n",
    "teilbar = []\n",
    "for number in numbers:\n",
    "    if number % 5 == 0:\n",
    "        teilbar.append(number)\n",
    "print(teilbar)"
   ],
   "id": "194938919c547eff",
   "outputs": [
    {
     "name": "stdout",
     "output_type": "stream",
     "text": [
      "[5, 10, 15, 20, 25, 30, 35, 40, 45, 50, 55, 60, 65, 70, 75, 80, 85, 90, 95]\n",
      "[0, 5, 10, 15, 20, 25, 30, 35, 40, 45, 50, 55, 60, 65, 70, 75, 80, 85, 90, 95]\n"
     ]
    }
   ],
   "execution_count": 6
  }
 ],
 "metadata": {
  "kernelspec": {
   "display_name": "Python 3",
   "language": "python",
   "name": "python3"
  },
  "language_info": {
   "codemirror_mode": {
    "name": "ipython",
    "version": 2
   },
   "file_extension": ".py",
   "mimetype": "text/x-python",
   "name": "python",
   "nbconvert_exporter": "python",
   "pygments_lexer": "ipython2",
   "version": "2.7.6"
  }
 },
 "nbformat": 4,
 "nbformat_minor": 5
}
