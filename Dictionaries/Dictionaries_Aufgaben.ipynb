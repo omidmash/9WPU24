{
 "cells": [
  {
   "metadata": {},
   "cell_type": "markdown",
   "source": [
    "# Person:\n",
    " Verwende ein Dictionary, um Informationen über eine Person zu speichern, die du kennst. Speichere deren Vornamen, Nachnamen, Alter und die Stadt, in der sie lebt. Die Keys sollten first_name, last_name, age und city sein. Gib jede Information, die im Dictionary gespeichert sind, aus."
   ],
   "id": "5e912f1a27be9ebd"
  },
  {
   "metadata": {
    "ExecuteTime": {
     "end_time": "2025-02-06T11:38:38.231769Z",
     "start_time": "2025-02-06T11:38:38.228596Z"
    }
   },
   "cell_type": "code",
   "source": [
    "person = {'first_name' : 'John', 'last_name' : 'Doe', 'age' : 30, 'city' : 'New York'}\n",
    "print(person)\n",
    "\n",
    "print(person['first_name'])\n",
    "print(person['last_name'])\n",
    "print(person['age'])\n",
    "print(person['city'])\n",
    "\n",
    "print(f\"My name is {person['first_name']} {person['last_name']}. I am {person['age']} years old and live in {person['city']}.\")\n"
   ],
   "id": "3c342d97fc000bd",
   "outputs": [
    {
     "name": "stdout",
     "output_type": "stream",
     "text": [
      "{'first_name': 'John', 'last_name': 'Doe', 'age': 30, 'city': 'New York'}\n",
      "John\n",
      "Doe\n",
      "30\n",
      "New York\n",
      "My name is John Doe. I am 30 years old and live in New York.\n"
     ]
    }
   ],
   "execution_count": 3
  },
  {
   "metadata": {},
   "cell_type": "markdown",
   "source": [
    "# Lieblingszahlen:\n",
    " Verwende ein Dictionary, um die Lieblingszahlen von fünf Personen zu speichern. Denke dir fünf Namen aus und verwende diese als Keys in deinem Dictionary. Denke dir eine Lieblingszahl für jede Person aus und speichere sie als Wert (Value) in deinem Dictionary. Gib den Namen jeder Person und ihre Lieblingszahl aus. Noch mehr Spaß macht es, ein paar Freunde zu befragen und deren tatsächliche Lieblingszahlen für dein Programm zu verwenden."
   ],
   "id": "e99eae23ca755f7a"
  },
  {
   "metadata": {
    "ExecuteTime": {
     "end_time": "2025-02-06T11:38:41.291604Z",
     "start_time": "2025-02-06T11:38:41.288522Z"
    }
   },
   "cell_type": "code",
   "source": [
    "lieblingszahlen = {\n",
    "    \"Omid\": 7,\n",
    "    \"Sarah\": 12,\n",
    "    \"Max\": 23,\n",
    "    \"Lisa\": 42,\n",
    "    \"John\": 5\n",
    "}\n",
    "print(f\"Omid liebt {lieblingszahlen['Omid']}\")\n",
    "print(f\"Sarah liebt {lieblingszahlen['Sarah']}\")\n",
    "print(f\"Max liebt {lieblingszahlen['Max']}\")\n",
    "print(f\"Lisa liebt {lieblingszahlen['Lisa']}\")\n",
    "\n",
    "# for name, number in lieblingszahlen.items():\n",
    "#     print(f\"{name}: {number}\")"
   ],
   "id": "796dcc77111cfab6",
   "outputs": [
    {
     "name": "stdout",
     "output_type": "stream",
     "text": [
      "Omid: 7\n",
      "Sarah: 12\n",
      "Max: 23\n",
      "Lisa: 42\n",
      "John: 5\n"
     ]
    }
   ],
   "execution_count": 4
  },
  {
   "metadata": {},
   "cell_type": "markdown",
   "source": [
    "# Glossar:\n",
    " Ein Python-Dictionary kann verwendet werden, um ein tatsächliches Wörterbuch zu modellieren. Um Verwirrung zu vermeiden, nennen wir es ein Glossar.\n",
    "\n",
    "•\tDenke an fünf Programmierschlagwörter (z.B. Variable, List, usw.), die du in den letzten Kapiteln gelernt hast. Verwende diese Wörter als Schlüssel in deinem Glossar und speichere ihre Bedeutungen als Werte.\n",
    "\n",
    "•\tGib jedes Wort und seine Bedeutung sauber formatiert aus. Du könntest das Wort gefolgt von einem Doppelpunkt und dann seiner Bedeutung ausgeben oder das Wort in einer Zeile und seine Bedeutung eingerückt in einer zweiten Zeile. Verwende das Zeichen \\n, um eine Leerzeile zwischen jedem Wort-Bedeutung-Paar in der Ausgabe einzufügen."
   ],
   "id": "7331915eb29d9e3f"
  },
  {
   "metadata": {
    "ExecuteTime": {
     "end_time": "2025-02-20T11:47:30.502612Z",
     "start_time": "2025-02-20T11:47:30.499485Z"
    }
   },
   "cell_type": "code",
   "source": [
    "glossary = {\n",
    "  \"Variable\": \"Ein Speicherort für Daten.\",\n",
    "  \"Schleife\": \"Eine Struktur, die Codeblöcke wiederholt.\",\n",
    "  \"Funktion\": \"Eine wiederverwendbare Codeeinheit.\",\n",
    "  \"Liste\": \"Eine Sammlung von Elementen.\",\n",
    "  \"Dictionary\": \"Eine Sammlung von Schlüssel-Wert-Paaren.\"\n",
    "}\n",
    "print(f\"Variable: {glossary['Variable']}\")\n",
    "print(f\"Schleife: {glossary['Schleife']}\")\n",
    "print(f\"Funktion: {glossary['Funktion']}\")\n",
    "print(f\"Liste: {glossary['Liste']}\")\n",
    "print(f\"Dictionary: {glossary['Dictionary']}\")"
   ],
   "id": "bc2cf1b607ff00b6",
   "outputs": [
    {
     "name": "stdout",
     "output_type": "stream",
     "text": [
      "Variable: Ein Speicherort für Daten.\n",
      "Schleife: Eine Struktur, die Codeblöcke wiederholt.\n",
      "Funktion: Eine wiederverwendbare Codeeinheit.\n",
      "Liste: Eine Sammlung von Elementen.\n",
      "Dictionary: Eine Sammlung von Schlüssel-Wert-Paaren.\n"
     ]
    }
   ],
   "execution_count": 11
  },
  {
   "metadata": {},
   "cell_type": "markdown",
   "source": [
    "# S. 121-122\n",
    "## 6-4"
   ],
   "id": "cefcb643c6f1d949"
  },
  {
   "metadata": {
    "ExecuteTime": {
     "end_time": "2025-02-20T11:48:41.188493Z",
     "start_time": "2025-02-20T11:48:41.185255Z"
    }
   },
   "cell_type": "code",
   "source": [
    "glossary = {\n",
    "  \"Variable\": \"Ein Speicherort für Daten.\",\n",
    "  \"Schleife\": \"Eine Struktur, die Codeblöcke wiederholt.\",\n",
    "  \"Funktion\": \"Eine wiederverwendbare Codeeinheit.\",\n",
    "  \"Liste\": \"Eine Sammlung von Elementen.\",\n",
    "  \"Dictionary\": \"Eine Sammlung von Schlüssel-Wert-Paaren.\"\n",
    "}\n",
    "\n",
    "for word, meaning in glossary.items():\n",
    "    print(f\"{word}:\\n {meaning}\\n\")"
   ],
   "id": "3458c4bb3948dde8",
   "outputs": [
    {
     "name": "stdout",
     "output_type": "stream",
     "text": [
      "Variable:\n",
      " Ein Speicherort für Daten.\n",
      "\n",
      "Schleife:\n",
      " Eine Struktur, die Codeblöcke wiederholt.\n",
      "\n",
      "Funktion:\n",
      " Eine wiederverwendbare Codeeinheit.\n",
      "\n",
      "Liste:\n",
      " Eine Sammlung von Elementen.\n",
      "\n",
      "Dictionary:\n",
      " Eine Sammlung von Schlüssel-Wert-Paaren.\n",
      "\n"
     ]
    }
   ],
   "execution_count": 13
  },
  {
   "metadata": {},
   "cell_type": "markdown",
   "source": "## 6-5",
   "id": "613998fb422a204c"
  },
  {
   "metadata": {
    "ExecuteTime": {
     "end_time": "2025-02-20T11:48:49.191182Z",
     "start_time": "2025-02-20T11:48:49.187816Z"
    }
   },
   "cell_type": "code",
   "source": [
    "rivers = {\"nile\" : \"egypt\", \"amazon\" : \"brazil\", \"mississippi\" : \"united states\"}\n",
    "for river, country in rivers.items():\n",
    "    print(f\"{river.title()} runs through {country.title()}.\")\n",
    "print(\"\\n\")\n",
    "for river in rivers.keys():\n",
    "    print(river.title())\n",
    "print(\"\\n\")\n",
    "for country in rivers.values():\n",
    "    print(country.title())"
   ],
   "id": "114bf57c46ffb303",
   "outputs": [
    {
     "name": "stdout",
     "output_type": "stream",
     "text": [
      "Nile runs through Egypt.\n",
      "Amazon runs through Brazil.\n",
      "Mississippi runs through United States.\n",
      "\n",
      "\n",
      "Nile\n",
      "Amazon\n",
      "Mississippi\n",
      "\n",
      "\n",
      "Egypt\n",
      "Brazil\n",
      "United States\n"
     ]
    }
   ],
   "execution_count": 14
  },
  {
   "metadata": {},
   "cell_type": "markdown",
   "source": "## 6-6",
   "id": "b8fffbb38fd2a9f7"
  },
  {
   "metadata": {
    "ExecuteTime": {
     "end_time": "2025-02-20T12:05:25.102940Z",
     "start_time": "2025-02-20T12:05:25.099551Z"
    }
   },
   "cell_type": "code",
   "source": [
    "poll = {\"lisa\" : \"python\", \"john\" : \"java\", \"sarah\" : \"c++\", \"max\" : \"julia\"}\n",
    "persons = [\"lisa\", \"john\", \"sarah\", \"merle\", \"julia\"]\n",
    "\n",
    "for person in persons:\n",
    "    if person in poll:\n",
    "    # if person in poll.keys():\n",
    "        print(f\"{person.title()}'s favorite language is {poll[person].title()}.\")\n",
    "    else:\n",
    "        print(f\"{person.title()} didn't vote.\")"
   ],
   "id": "6bf01c8c42ca2be6",
   "outputs": [
    {
     "name": "stdout",
     "output_type": "stream",
     "text": [
      "Lisa's favorite language is Python.\n",
      "John's favorite language is Java.\n",
      "Sarah's favorite language is C++.\n",
      "Merle didn't vote.\n",
      "Julia didn't vote.\n"
     ]
    }
   ],
   "execution_count": 19
  },
  {
   "metadata": {},
   "cell_type": "markdown",
   "source": "# Extra",
   "id": "6d99632cbecf7"
  },
  {
   "metadata": {
    "ExecuteTime": {
     "end_time": "2025-02-20T12:05:49.925155Z",
     "start_time": "2025-02-20T12:05:49.916177Z"
    }
   },
   "cell_type": "code",
   "source": [
    "# 1. Erstelle das Dictionary\n",
    "schueler_noten = {\n",
    "    \"Anna\": [3, 4, 2, 5],\n",
    "    \"Ben\": [5, 5, 4, 6],\n",
    "    \"David\": [2, 3, 1, 1]\n",
    "}\n",
    "\n",
    "# 2. Berechne die Durchschnittsnoten\n",
    "for schueler, noten in schueler_noten.items():\n",
    "    summe = sum(noten)\n",
    "    anzahl_noten = len(noten)\n",
    "    durchschnitt = summe / anzahl_noten\n",
    "\n",
    "    # 3. Prüfe, ob der Schüler bestanden hat\n",
    "    if durchschnitt < 4.0:\n",
    "        ergebnis = \"Bestanden\"\n",
    "    else:\n",
    "        ergebnis = \"Nicht bestanden\"\n",
    "\n",
    "    # 4. Gib das Ergebnis aus\n",
    "    print(f\"{schueler} hat einen Durchschnitt von {durchschnitt:.2f} und somit: {ergebnis}\")"
   ],
   "id": "a205d194a967eecb",
   "outputs": [
    {
     "name": "stdout",
     "output_type": "stream",
     "text": [
      "Anna hat einen Durchschnitt von 3.50 und somit: Bestanden\n",
      "Ben hat einen Durchschnitt von 5.00 und somit: Nicht bestanden\n",
      "David hat einen Durchschnitt von 1.75 und somit: Bestanden\n"
     ]
    }
   ],
   "execution_count": 20
  }
 ],
 "metadata": {
  "kernelspec": {
   "display_name": "Python 3",
   "language": "python",
   "name": "python3"
  },
  "language_info": {
   "codemirror_mode": {
    "name": "ipython",
    "version": 2
   },
   "file_extension": ".py",
   "mimetype": "text/x-python",
   "name": "python",
   "nbconvert_exporter": "python",
   "pygments_lexer": "ipython2",
   "version": "2.7.6"
  }
 },
 "nbformat": 4,
 "nbformat_minor": 5
}
