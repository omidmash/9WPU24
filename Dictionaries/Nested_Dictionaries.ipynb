{
 "cells": [
  {
   "cell_type": "code",
   "id": "initial_id",
   "metadata": {
    "collapsed": true,
    "ExecuteTime": {
     "end_time": "2025-01-27T14:04:11.051672Z",
     "start_time": "2025-01-27T14:04:11.022778Z"
    }
   },
   "source": [
    "#TODO\n",
    "person = {'vorname' : 'max',\n",
    "          'nachname' : 'mustermann',\n",
    "          'age' : 25,\n",
    "          'haustiere' : ['hund', 'katze', 'hamster'],\n",
    "          'fobemis' : {'auto' : 'bmw', 'motorrad' : 'honda'}}\n",
    "\n",
    "print(person)\n",
    "print(person['vorname'])\n",
    "print(person['nachname'])\n",
    "print(person['fobemis'])\n",
    "print(person['fobemis']['motorrad'])\n",
    "print('\\n')\n",
    "print(person.keys())\n",
    "print(person.values())\n",
    "print()\n",
    "\n",
    "vorstellung = f\"Hallo. Ich bin {person['vorname'].title()} {person['nachname'].title()}\"\n",
    "print(vorstellung)\n",
    "\n",
    "alter = f\"Ich bin {person['age']} jahre Alt.\"\n",
    "print(alter)\n",
    "\n",
    "print('\\nMeine Haustiere:')\n",
    "for haustier in person['haustiere']:\n",
    "    print(haustier.title())\n",
    "\n",
    "print('\\nIch fahre:')\n",
    "for fobemi in person['fobemis']:\n",
    "    print(fobemi.title() + \" \" + person['fobemis'])\n",
    "\n"
   ],
   "outputs": [
    {
     "name": "stdout",
     "output_type": "stream",
     "text": [
      "{'vorname': 'max', 'nachname': 'mustermann', 'age': 25, 'haustiere': ['hund', 'katze', 'hamster'], 'fobemis': {'auto': 'bmw', 'motorrad': 'honda'}}\n",
      "max\n",
      "mustermann\n",
      "{'auto': 'bmw', 'motorrad': 'honda'}\n",
      "honda\n",
      "\n",
      "\n",
      "dict_keys(['vorname', 'nachname', 'age', 'haustiere', 'fobemis'])\n",
      "dict_values(['max', 'mustermann', 25, ['hund', 'katze', 'hamster'], {'auto': 'bmw', 'motorrad': 'honda'}])\n",
      "\n",
      "Hallo. Ich bin Max Mustermann\n",
      "Ich bin 25 jahre Alt.\n",
      "\n",
      "Meine Haustiere:\n",
      "Hund\n",
      "Katze\n",
      "Hamster\n",
      "\n",
      "Ich fahre:\n"
     ]
    },
    {
     "ename": "TypeError",
     "evalue": "can only concatenate str (not \"dict\") to str",
     "output_type": "error",
     "traceback": [
      "\u001B[0;31m---------------------------------------------------------------------------\u001B[0m",
      "\u001B[0;31mTypeError\u001B[0m                                 Traceback (most recent call last)",
      "Cell \u001B[0;32mIn[20], line 29\u001B[0m\n\u001B[1;32m     27\u001B[0m \u001B[38;5;28mprint\u001B[39m(\u001B[38;5;124m'\u001B[39m\u001B[38;5;130;01m\\n\u001B[39;00m\u001B[38;5;124mIch fahre:\u001B[39m\u001B[38;5;124m'\u001B[39m)\n\u001B[1;32m     28\u001B[0m \u001B[38;5;28;01mfor\u001B[39;00m fobemi \u001B[38;5;129;01min\u001B[39;00m person[\u001B[38;5;124m'\u001B[39m\u001B[38;5;124mfobemis\u001B[39m\u001B[38;5;124m'\u001B[39m]:\n\u001B[0;32m---> 29\u001B[0m     \u001B[38;5;28mprint\u001B[39m(\u001B[43mfobemi\u001B[49m\u001B[38;5;241;43m.\u001B[39;49m\u001B[43mtitle\u001B[49m\u001B[43m(\u001B[49m\u001B[43m)\u001B[49m\u001B[43m \u001B[49m\u001B[38;5;241;43m+\u001B[39;49m\u001B[43m \u001B[49m\u001B[38;5;124;43m\"\u001B[39;49m\u001B[38;5;124;43m \u001B[39;49m\u001B[38;5;124;43m\"\u001B[39;49m\u001B[43m \u001B[49m\u001B[38;5;241;43m+\u001B[39;49m\u001B[43m \u001B[49m\u001B[43mperson\u001B[49m\u001B[43m[\u001B[49m\u001B[38;5;124;43m'\u001B[39;49m\u001B[38;5;124;43mfobemis\u001B[39;49m\u001B[38;5;124;43m'\u001B[39;49m\u001B[43m]\u001B[49m)\n\u001B[1;32m     31\u001B[0m \u001B[38;5;66;03m# print(person['fobemis']['auto'])\u001B[39;00m\n\u001B[1;32m     32\u001B[0m \u001B[38;5;28mprint\u001B[39m(person\u001B[38;5;241m.\u001B[39mget(\u001B[38;5;124m'\u001B[39m\u001B[38;5;124mfobemis\u001B[39m\u001B[38;5;124m'\u001B[39m))\n",
      "\u001B[0;31mTypeError\u001B[0m: can only concatenate str (not \"dict\") to str"
     ]
    }
   ],
   "execution_count": 20
  }
 ],
 "metadata": {
  "kernelspec": {
   "display_name": "Python 3",
   "language": "python",
   "name": "python3"
  },
  "language_info": {
   "codemirror_mode": {
    "name": "ipython",
    "version": 2
   },
   "file_extension": ".py",
   "mimetype": "text/x-python",
   "name": "python",
   "nbconvert_exporter": "python",
   "pygments_lexer": "ipython2",
   "version": "2.7.6"
  }
 },
 "nbformat": 4,
 "nbformat_minor": 5
}
