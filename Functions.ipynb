{
 "cells": [
  {
   "metadata": {},
   "cell_type": "markdown",
   "source": "# Functions",
   "id": "406fb0bba8b8fb1"
  },
  {
   "metadata": {
    "ExecuteTime": {
     "end_time": "2024-12-12T12:18:59.128164Z",
     "start_time": "2024-12-12T12:18:59.122462Z"
    }
   },
   "cell_type": "code",
   "source": [
    "def greet_user():\n",
    "    print(\"Hello!\")\n",
    "\n",
    "greet_user()"
   ],
   "id": "669fc6d5f3bfea16",
   "outputs": [
    {
     "name": "stdout",
     "output_type": "stream",
     "text": [
      "Hello!\n"
     ]
    }
   ],
   "execution_count": 16
  },
  {
   "metadata": {
    "ExecuteTime": {
     "end_time": "2024-12-12T12:19:00.237987Z",
     "start_time": "2024-12-12T12:19:00.234698Z"
    }
   },
   "cell_type": "code",
   "source": [
    "def greet_user(username):\n",
    "    print(f\"Hello, {username.title()}!\")\n",
    "\n",
    "greet_user(\"Hans\")\n",
    "greet_user(\"Jesse\")\n",
    "greet_user(\"Omid\")\n",
    "greet_user(\"Maxim\")"
   ],
   "id": "961fb68131e5487d",
   "outputs": [
    {
     "name": "stdout",
     "output_type": "stream",
     "text": [
      "Hello, Hans!\n",
      "Hello, Jesse!\n",
      "Hello, Omid!\n",
      "Hello, Maxim!\n"
     ]
    }
   ],
   "execution_count": 17
  },
  {
   "metadata": {
    "ExecuteTime": {
     "end_time": "2024-12-12T12:19:01.652335Z",
     "start_time": "2024-12-12T12:19:01.649020Z"
    }
   },
   "cell_type": "code",
   "source": [
    "def haustier_beschreiben(haustier_art, haustier_name):\n",
    "    print(f\"Das ist ein {haustier_art.title()} namens {haustier_name.title()}.\")\n",
    "haustier_beschreiben(\"hund\", \"max\")\n",
    "haustier_beschreiben(\"katze\", \"lily\")"
   ],
   "id": "dd38cfd7570cf5",
   "outputs": [
    {
     "name": "stdout",
     "output_type": "stream",
     "text": [
      "Das ist ein Hund namens Max.\n",
      "Das ist ein Katze namens Lily.\n"
     ]
    }
   ],
   "execution_count": 18
  },
  {
   "metadata": {
    "ExecuteTime": {
     "end_time": "2024-12-12T12:06:41.128940Z",
     "start_time": "2024-12-12T12:06:41.125848Z"
    }
   },
   "cell_type": "code",
   "source": [
    "def schnibbeln(gemuese): #argument (parsing)\n",
    "    print(f\"geschnibbelt: {gemuese}\")\n",
    "\n",
    "schnibbeln(\"zwiebel\")\n",
    "schnibbeln(\"möhren\")"
   ],
   "id": "1ec6761eff9e3b88",
   "outputs": [
    {
     "name": "stdout",
     "output_type": "stream",
     "text": [
      "geschnibbelt: zwiebel\n",
      "geschnibbelt: möhren\n"
     ]
    }
   ],
   "execution_count": 12
  },
  {
   "metadata": {
    "ExecuteTime": {
     "end_time": "2024-12-12T12:09:41.332153Z",
     "start_time": "2024-12-12T12:09:41.329595Z"
    }
   },
   "cell_type": "code",
   "source": [
    "def add(a, b):\n",
    "    return a + b\n",
    "\n",
    "print(add(3, 5))"
   ],
   "id": "3afafad9859f9ee3",
   "outputs": [
    {
     "name": "stdout",
     "output_type": "stream",
     "text": [
      "8\n"
     ]
    }
   ],
   "execution_count": 14
  },
  {
   "metadata": {},
   "cell_type": "markdown",
   "source": "## Default Argument\n",
   "id": "60e35cbac72c84ae"
  },
  {
   "metadata": {
    "ExecuteTime": {
     "end_time": "2024-12-12T12:14:07.229415Z",
     "start_time": "2024-12-12T12:14:07.224279Z"
    }
   },
   "cell_type": "code",
   "source": [
    "def describe_pet(pet_name, animal_type=\"dog\"):\n",
    "    print(f\"\\nI have a {animal_type}.\")\n",
    "    print(f\"My {animal_type}'s name is {pet_name.title()}.\")\n",
    "\n",
    "describe_pet(\"alex\")\n",
    "describe_pet(\"max\", \"hamster\")"
   ],
   "id": "21e4f18bbdc1c5a1",
   "outputs": [
    {
     "name": "stdout",
     "output_type": "stream",
     "text": [
      "\n",
      "I have a dog.\n",
      "My dog's name is Alex.\n",
      "\n",
      "I have a hamster.\n",
      "My hamster's name is Max.\n"
     ]
    }
   ],
   "execution_count": 15
  }
 ],
 "metadata": {
  "kernelspec": {
   "display_name": "Python 3",
   "language": "python",
   "name": "python3"
  },
  "language_info": {
   "codemirror_mode": {
    "name": "ipython",
    "version": 2
   },
   "file_extension": ".py",
   "mimetype": "text/x-python",
   "name": "python",
   "nbconvert_exporter": "python",
   "pygments_lexer": "ipython2",
   "version": "2.7.6"
  }
 },
 "nbformat": 4,
 "nbformat_minor": 5
}
