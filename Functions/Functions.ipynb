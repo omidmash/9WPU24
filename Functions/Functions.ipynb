{
 "cells": [
  {
   "metadata": {},
   "cell_type": "markdown",
   "source": "# Functions",
   "id": "406fb0bba8b8fb1"
  },
  {
   "metadata": {
    "ExecuteTime": {
     "end_time": "2024-12-19T18:48:32.493070Z",
     "start_time": "2024-12-19T18:48:32.486808Z"
    }
   },
   "cell_type": "code",
   "source": [
    "# Diese Funktion definiert `greet_user`, die dazu dient, eine freundliche Begrüßungsnachricht auf der Konsole auszugeben.\n",
    "\n",
    "def greet_user():\n",
    "    # Gibt eine einfache Begrüßungsnachricht für den Benutzer aus\n",
    "    print(\"Hallo!\")\n",
    "\n",
    "# Ruft die Funktion `greet_user` auf, um die Begrüßungsnachricht auszuführen\n",
    "greet_user()"
   ],
   "id": "669fc6d5f3bfea16",
   "outputs": [
    {
     "name": "stdout",
     "output_type": "stream",
     "text": [
      "Hallo!\n"
     ]
    }
   ],
   "execution_count": 1
  },
  {
   "metadata": {
    "ExecuteTime": {
     "end_time": "2024-12-19T18:48:32.502453Z",
     "start_time": "2024-12-19T18:48:32.498737Z"
    }
   },
   "cell_type": "code",
   "source": [
    "# Diese Funktion begrüßt einen Benutzer mit einem übergebenen Benutzernamen.\n",
    "def greet_user(username):\n",
    "    # Gibt eine benutzerdefinierte Begrüßung aus, wobei der Name richtig formatiert wird.\n",
    "    print(f\"Hello, {username.title()}!\")\n",
    "\n",
    "\n",
    "# Funktionsaufrufe mit verschiedenen Werten für den Parameter username.\n",
    "greet_user(\"Hans\")  # Ausgabe: \"Hello, Hans!\"\n",
    "greet_user(\"Jesse\")  # Ausgabe: \"Hello, Jesse!\"\n",
    "greet_user(\"Omid\")  # Ausgabe: \"Hello, Omid!\"\n",
    "greet_user(\"Maxim\")  # Ausgabe: \"Hello, Maxim!\""
   ],
   "id": "961fb68131e5487d",
   "outputs": [
    {
     "name": "stdout",
     "output_type": "stream",
     "text": [
      "Hello, Hans!\n",
      "Hello, Jesse!\n",
      "Hello, Omid!\n",
      "Hello, Maxim!\n"
     ]
    }
   ],
   "execution_count": 2
  },
  {
   "metadata": {
    "ExecuteTime": {
     "end_time": "2024-12-19T18:48:32.588937Z",
     "start_time": "2024-12-19T18:48:32.586380Z"
    }
   },
   "cell_type": "code",
   "source": [
    "# Diese Funktion beschreibt ein Haustier basierend auf den übergebenen Parametern.\n",
    "def haustier_beschreiben(haustier_art, haustier_name):\n",
    "    # Gibt eine Beschreibung des Haustiers aus, inklusive Art und Name.\n",
    "    print(f\"Das ist ein {haustier_art.title()} namens {haustier_name.title()}.\") \n",
    "\n",
    "# Aufrufen der Funktion mit verschiedenen Haustieren und deren Namen.\n",
    "haustier_beschreiben(\"hund\", \"max\")  # Ausgabe: \"Das ist ein Hund namens Max.\"\n",
    "haustier_beschreiben(\"katze\", \"lily\")  # Ausgabe: \"Das ist eine Katze namens Lily.\""
   ],
   "id": "dd38cfd7570cf5",
   "outputs": [
    {
     "name": "stdout",
     "output_type": "stream",
     "text": [
      "Das ist ein Hund namens Max.\n",
      "Das ist ein Katze namens Lily.\n"
     ]
    }
   ],
   "execution_count": 3
  },
  {
   "metadata": {
    "ExecuteTime": {
     "end_time": "2024-12-19T18:48:32.603160Z",
     "start_time": "2024-12-19T18:48:32.600167Z"
    }
   },
   "cell_type": "code",
   "source": [
    "# Diese Funktion simuliert, dass ein bestimmtes Gemüse geschnitten wird.\n",
    "def schnibbeln(gemuese):  # Parameter: gemuese (Name des Gemüses)\n",
    "    # Gibt eine Nachricht aus, welches Gemüse geschnitten wurde.\n",
    "    print(f\"geschnibbelt: {gemuese}\")\n",
    "\n",
    "\n",
    "# Aufrufen der Funktion mit verschiedenen Gemüsesorten.\n",
    "schnibbeln(\"zwiebel\")  # Ausgabe: \"geschnibbelt: zwiebel\"\n",
    "schnibbeln(\"möhren\")  # Ausgabe: \"geschnibbelt: möhren\""
   ],
   "id": "1ec6761eff9e3b88",
   "outputs": [
    {
     "name": "stdout",
     "output_type": "stream",
     "text": [
      "geschnibbelt: zwiebel\n",
      "geschnibbelt: möhren\n"
     ]
    }
   ],
   "execution_count": 4
  },
  {
   "metadata": {
    "ExecuteTime": {
     "end_time": "2024-12-19T18:48:32.623911Z",
     "start_time": "2024-12-19T18:48:32.621234Z"
    }
   },
   "cell_type": "code",
   "source": [
    "# Diese Funktion addiert zwei Zahlen und gibt die Summe zurück.\n",
    "def add(a, b):\n",
    "    return a + b  # Gibt die Summe der Parameter a und b zurück.\n",
    "\n",
    "\n",
    "# Aufrufen der Funktion, summiert die Zahlen 3 und 5, und gibt das Ergebnis aus.\n",
    "print(add(3, 5))  # Ausgabe: 8"
   ],
   "id": "3afafad9859f9ee3",
   "outputs": [
    {
     "name": "stdout",
     "output_type": "stream",
     "text": [
      "8\n"
     ]
    }
   ],
   "execution_count": 5
  },
  {
   "metadata": {},
   "cell_type": "markdown",
   "source": "## Standard-Argumente / Default Arguments\n",
   "id": "60e35cbac72c84ae"
  },
  {
   "metadata": {
    "ExecuteTime": {
     "end_time": "2024-12-19T18:48:32.639395Z",
     "start_time": "2024-12-19T18:48:32.636043Z"
    }
   },
   "cell_type": "code",
   "source": [
    "# Diese Funktion beschreibt ein Haustier und verwendet einen Standardwert für die Tierart.\n",
    "def describe_pet(pet_name, animal_type=\"dog\"):  # Standardwert für animal_type ist \"dog\".\n",
    "    # Gibt die Beschreibung des Tieres aus, inklusive Typ und Name.\n",
    "    print(f\"\\nI have a {animal_type}.\")\n",
    "    print(f\"My {animal_type}'s name is {pet_name.title()}.\")\n",
    "\n",
    "\n",
    "# Funktionsaufruf ohne Angabe der Tierart - Standardwert wird genutzt (\"dog\").\n",
    "describe_pet(\"alex\")  # Ausgabe:\n",
    "# I have a dog.\n",
    "# My dog's name is Alex.\n",
    "\n",
    "# Funktionsaufruf mit einer eigenen Angabe der Tierart.\n",
    "describe_pet(\"max\", \"hamster\")  # Ausgabe:\n",
    "# I have a hamster.\n",
    "# My hamster's name is Max."
   ],
   "id": "21e4f18bbdc1c5a1",
   "outputs": [
    {
     "name": "stdout",
     "output_type": "stream",
     "text": [
      "\n",
      "I have a dog.\n",
      "My dog's name is Alex.\n",
      "\n",
      "I have a hamster.\n",
      "My hamster's name is Max.\n"
     ]
    }
   ],
   "execution_count": 6
  }
 ],
 "metadata": {
  "kernelspec": {
   "display_name": "Python 3",
   "language": "python",
   "name": "python3"
  },
  "language_info": {
   "codemirror_mode": {
    "name": "ipython",
    "version": 2
   },
   "file_extension": ".py",
   "mimetype": "text/x-python",
   "name": "python",
   "nbconvert_exporter": "python",
   "pygments_lexer": "ipython2",
   "version": "2.7.6"
  }
 },
 "nbformat": 4,
 "nbformat_minor": 5
}
