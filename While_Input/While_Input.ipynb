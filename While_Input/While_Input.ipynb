{
 "cells": [
  {
   "metadata": {},
   "cell_type": "markdown",
   "source": "# 7-1",
   "id": "9b2e87b3a23fee73"
  },
  {
   "cell_type": "code",
   "id": "initial_id",
   "metadata": {
    "collapsed": true,
    "ExecuteTime": {
     "end_time": "2025-03-27T11:05:10.019043Z",
     "start_time": "2025-03-27T11:05:06.870842Z"
    }
   },
   "source": [
    "car = input(\"What is your car name?\")\n",
    "print(f\"Your car is a {car}.\")\n",
    "# STDIN (Standard Input)"
   ],
   "outputs": [
    {
     "name": "stdout",
     "output_type": "stream",
     "text": [
      "Your car is a Audi.\n"
     ]
    }
   ],
   "execution_count": 4
  },
  {
   "metadata": {},
   "cell_type": "markdown",
   "source": "# 7-2",
   "id": "8b62c157cf235820"
  },
  {
   "metadata": {
    "ExecuteTime": {
     "end_time": "2025-03-27T11:09:35.603798Z",
     "start_time": "2025-03-27T11:09:32.900486Z"
    }
   },
   "cell_type": "code",
   "source": [
    "number = int(input(\"Enter a number: \"))\n",
    "if number > 8:\n",
    "    print(\"Warten!\")\n",
    "    # STDOUT\n",
    "else:\n",
    "    print(\"Willkommen!\")"
   ],
   "id": "c28b7a20e9ae88f9",
   "outputs": [
    {
     "name": "stdout",
     "output_type": "stream",
     "text": [
      "Warten!\n"
     ]
    }
   ],
   "execution_count": 11
  },
  {
   "metadata": {},
   "cell_type": "markdown",
   "source": "# 7-3",
   "id": "9d40014613a31de4"
  },
  {
   "metadata": {
    "ExecuteTime": {
     "end_time": "2025-03-27T11:10:17.302443Z",
     "start_time": "2025-03-27T11:10:14.095149Z"
    }
   },
   "cell_type": "code",
   "source": [
    "number = int(input(\"Enter a number: \"))\n",
    "if number % 3 == 0:\n",
    "    print(\"Divisible by 3!\")\n",
    "else:\n",
    "    print(\"Not divisible by 3!\")"
   ],
   "id": "3acbec1f02f376e6",
   "outputs": [
    {
     "name": "stdout",
     "output_type": "stream",
     "text": [
      "Divisible by 3!\n"
     ]
    }
   ],
   "execution_count": 14
  }
 ],
 "metadata": {
  "kernelspec": {
   "display_name": "Python 3",
   "language": "python",
   "name": "python3"
  },
  "language_info": {
   "codemirror_mode": {
    "name": "ipython",
    "version": 2
   },
   "file_extension": ".py",
   "mimetype": "text/x-python",
   "name": "python",
   "nbconvert_exporter": "python",
   "pygments_lexer": "ipython2",
   "version": "2.7.6"
  }
 },
 "nbformat": 4,
 "nbformat_minor": 5
}
