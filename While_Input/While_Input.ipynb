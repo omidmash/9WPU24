{
 "cells": [
  {
   "metadata": {},
   "cell_type": "markdown",
   "source": "# 7-1",
   "id": "9b2e87b3a23fee73"
  },
  {
   "cell_type": "code",
   "id": "initial_id",
   "metadata": {
    "collapsed": true,
    "ExecuteTime": {
     "end_time": "2025-03-06T12:21:53.089149Z",
     "start_time": "2025-03-06T12:21:48.497181Z"
    }
   },
   "source": [
    "car = input(\"What is your car name?\")\n",
    "print(f\"Your car is a {car}\")"
   ],
   "outputs": [
    {
     "name": "stdout",
     "output_type": "stream",
     "text": [
      "Your car is a audi\n"
     ]
    }
   ],
   "execution_count": 1
  },
  {
   "metadata": {},
   "cell_type": "markdown",
   "source": "# 7-2",
   "id": "8b62c157cf235820"
  },
  {
   "metadata": {
    "ExecuteTime": {
     "end_time": "2025-03-06T12:22:48.585184Z",
     "start_time": "2025-03-06T12:22:45.919735Z"
    }
   },
   "cell_type": "code",
   "source": [
    "number = int(input(\"Enter a number: \"))\n",
    "if number > 8:\n",
    "    print(\"Warten!\")\n",
    "else:\n",
    "    print(\"Willkommen!\")"
   ],
   "id": "c28b7a20e9ae88f9",
   "outputs": [
    {
     "name": "stdout",
     "output_type": "stream",
     "text": [
      "Warten!\n"
     ]
    }
   ],
   "execution_count": 3
  },
  {
   "metadata": {},
   "cell_type": "markdown",
   "source": "# 7-3",
   "id": "9d40014613a31de4"
  },
  {
   "metadata": {
    "ExecuteTime": {
     "end_time": "2025-03-06T12:23:58.085593Z",
     "start_time": "2025-03-06T12:23:54.320314Z"
    }
   },
   "cell_type": "code",
   "source": [
    "\n",
    "if number % 10 == 0:\n",
    "    print(\"Divisible by 10!\")\n",
    "else:\n",
    "    print(\"Not divisible by 10!\")"
   ],
   "id": "3acbec1f02f376e6",
   "outputs": [
    {
     "name": "stdout",
     "output_type": "stream",
     "text": [
      "Divisible by 10!\n"
     ]
    }
   ],
   "execution_count": 5
  }
 ],
 "metadata": {
  "kernelspec": {
   "display_name": "Python 3",
   "language": "python",
   "name": "python3"
  },
  "language_info": {
   "codemirror_mode": {
    "name": "ipython",
    "version": 2
   },
   "file_extension": ".py",
   "mimetype": "text/x-python",
   "name": "python",
   "nbconvert_exporter": "python",
   "pygments_lexer": "ipython2",
   "version": "2.7.6"
  }
 },
 "nbformat": 4,
 "nbformat_minor": 5
}
