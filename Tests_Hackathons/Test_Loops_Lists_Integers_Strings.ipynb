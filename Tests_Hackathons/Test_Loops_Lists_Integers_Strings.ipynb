{
 "cells": [
  {
   "metadata": {},
   "cell_type": "markdown",
   "source": [
    "# Teil 2:\n",
    "1. Schreibe ein Python-Programm, das eine Liste von Städten (städte = [\"Berlin\", \"Hamburg\", \"München\"]) etnhält. Entferne die Stadt \"Hamburg\" mit der remove() - Methode und füge \"Köln\" am ende der Liste Hinzu. Gib die geänderte Liste aus."
   ],
   "id": "a572047e9155e04f"
  },
  {
   "cell_type": "code",
   "id": "initial_id",
   "metadata": {
    "collapsed": true,
    "ExecuteTime": {
     "end_time": "2025-01-09T08:26:57.097303Z",
     "start_time": "2025-01-09T08:26:57.093435Z"
    }
   },
   "source": [
    "städte = [\"Berlin\", \"Hamburg\", \"München\"]\n",
    "städte.remove(\"Hamburg\")\n",
    "städte.append(\"Köln\")\n",
    "print(städte)"
   ],
   "outputs": [
    {
     "name": "stdout",
     "output_type": "stream",
     "text": [
      "['Berlin', 'München', 'Köln']\n"
     ]
    }
   ],
   "execution_count": 25
  },
  {
   "metadata": {},
   "cell_type": "markdown",
   "source": "2. Schreibe ein Programm, das eine Liste von Zahlen von 1 bis 10 erstellt. Verwende eine Schleife, um alle ungeraden Zahlen in eine neue Liste zu speichern. Gib die neue Liste aus.",
   "id": "9c287ec75b108b4"
  },
  {
   "metadata": {
    "ExecuteTime": {
     "end_time": "2025-01-09T08:28:01.556980Z",
     "start_time": "2025-01-09T08:28:01.554201Z"
    }
   },
   "cell_type": "code",
   "source": [
    "zahlen = list(range(1,11))\n",
    "ungerade = []\n",
    "for zahl in zahlen:\n",
    "    if zahl % 2 != 0:\n",
    "        ungerade.append(zahl)\n",
    "print(ungerade)"
   ],
   "id": "b104183176cbeb54",
   "outputs": [
    {
     "name": "stdout",
     "output_type": "stream",
     "text": [
      "[1, 3, 5, 7, 9]\n"
     ]
    }
   ],
   "execution_count": 4
  },
  {
   "metadata": {},
   "cell_type": "markdown",
   "source": [
    "3. Schreibe ein Programm, das einen beliebigen String:\n",
    "    * ... in Großbuchstaben umwandelt.\n",
    "    * ... in Kleinbuchstaben umwandelt.\n",
    "    * ... ersten Buchstaben jedes Wortes großschreibt."
   ],
   "id": "7a7063626312f11d"
  },
  {
   "metadata": {
    "ExecuteTime": {
     "end_time": "2025-01-09T08:27:59.932490Z",
     "start_time": "2025-01-09T08:27:59.929808Z"
    }
   },
   "cell_type": "code",
   "source": [
    "wort = \"informatik\"\n",
    "print(wort.upper())\n",
    "print(wort.lower())\n",
    "print(wort.title())"
   ],
   "id": "c75f8eb5b2d475e8",
   "outputs": [
    {
     "name": "stdout",
     "output_type": "stream",
     "text": [
      "INFORMATIK\n",
      "informatik\n",
      "Informatik\n"
     ]
    }
   ],
   "execution_count": 3
  },
  {
   "metadata": {},
   "cell_type": "markdown",
   "source": "4. Erstelle ein Programm, das eine Liste von 5 Zahlen enthält. Füge mit der append() - Methode die Summe dieser Zahlen ans Ende der Liste hinzu. Gib die gesamte Liste aus.",
   "id": "3729635d532b621"
  },
  {
   "metadata": {
    "ExecuteTime": {
     "end_time": "2025-01-09T10:12:52.215775Z",
     "start_time": "2025-01-09T10:12:52.211979Z"
    }
   },
   "cell_type": "code",
   "source": [
    "zahlen = list(range(1,6))\n",
    "i = 0\n",
    "for zahl in zahlen:\n",
    "    i += zahl\n",
    "zahlen.append(i)\n",
    "print(zahlen)"
   ],
   "id": "234990eb6484f249",
   "outputs": [
    {
     "name": "stdout",
     "output_type": "stream",
     "text": [
      "[1, 2, 3, 4, 5, 15]\n"
     ]
    }
   ],
   "execution_count": 9
  },
  {
   "metadata": {},
   "cell_type": "markdown",
   "source": "",
   "id": "8fbab6b9a2c34eb6"
  },
  {
   "metadata": {},
   "cell_type": "markdown",
   "source": [
    "# Bonusfrage\n",
    "Schreibe eine Schleife, die eine Liste von 10 Zahlen erstellt. Gib jede Zahl in der Liste aus, aber nur dann, wenn die Zahl durch 3 teilbar ist."
   ],
   "id": "70c3c0b52caaef5"
  },
  {
   "metadata": {
    "ExecuteTime": {
     "end_time": "2025-01-09T10:12:56.207882Z",
     "start_time": "2025-01-09T10:12:56.204715Z"
    }
   },
   "cell_type": "code",
   "source": [
    "\n",
    "for zahl in zahlen:\n",
    "    if zahl % 3 == 0:\n",
    "        print(zahl)"
   ],
   "id": "6c5b8b04ab25ca88",
   "outputs": [
    {
     "name": "stdout",
     "output_type": "stream",
     "text": [
      "3\n",
      "6\n",
      "9\n"
     ]
    }
   ],
   "execution_count": 10
  }
 ],
 "metadata": {
  "kernelspec": {
   "display_name": "Python 3",
   "language": "python",
   "name": "python3"
  },
  "language_info": {
   "codemirror_mode": {
    "name": "ipython",
    "version": 2
   },
   "file_extension": ".py",
   "mimetype": "text/x-python",
   "name": "python",
   "nbconvert_exporter": "python",
   "pygments_lexer": "ipython2",
   "version": "2.7.6"
  }
 },
 "nbformat": 4,
 "nbformat_minor": 5
}
