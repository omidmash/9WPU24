{
 "cells": [
  {
   "metadata": {},
   "cell_type": "markdown",
   "source": "# A1",
   "id": "dc445fb83fa93a58"
  },
  {
   "cell_type": "code",
   "id": "initial_id",
   "metadata": {
    "collapsed": true,
    "ExecuteTime": {
     "end_time": "2024-12-05T12:22:15.021745Z",
     "start_time": "2024-12-05T12:22:15.015856Z"
    }
   },
   "source": [
    "vokalen = ['a', 'i', 'o', 'u', 'ü', 'ö', 'ä']\n",
    "string = \"Ich mag Bananen. aUcH In rAnDoM cAsE.\"\n",
    "vokalen_anzahl = 0\n",
    "for buchstabe in string:\n",
    "    if buchstabe.lower() in vokalen:\n",
    "        vokalen_anzahl += 1\n",
    "print(f\"Anzahl der Vokalen in {string}: {vokalen_anzahl}\")"
   ],
   "outputs": [
    {
     "name": "stdout",
     "output_type": "stream",
     "text": [
      "Anzahl der Vokalen in Ich mag Bananen. aUcH In rAnDoM cAsE.: 10\n"
     ]
    }
   ],
   "execution_count": 10
  },
  {
   "metadata": {},
   "cell_type": "markdown",
   "source": "# A2",
   "id": "8988d3e9b3da9cf8"
  },
  {
   "metadata": {
    "ExecuteTime": {
     "end_time": "2024-12-05T12:22:48.240824Z",
     "start_time": "2024-12-05T12:22:48.237596Z"
    }
   },
   "cell_type": "code",
   "source": [
    "zahlen = list(range(101))\n",
    "gerade = []\n",
    "ungerade = []\n",
    "for zahl in zahlen:\n",
    "    if zahl % 2 == 0:\n",
    "        gerade.append(zahl)\n",
    "    else:\n",
    "        ungerade.append(zahl)\n",
    "print(gerade)\n",
    "print(ungerade)"
   ],
   "id": "dd5d6aca21a639e7",
   "outputs": [
    {
     "name": "stdout",
     "output_type": "stream",
     "text": [
      "[0, 2, 4, 6, 8, 10, 12, 14, 16, 18, 20, 22, 24, 26, 28, 30, 32, 34, 36, 38, 40, 42, 44, 46, 48, 50, 52, 54, 56, 58, 60, 62, 64, 66, 68, 70, 72, 74, 76, 78, 80, 82, 84, 86, 88, 90, 92, 94, 96, 98, 100]\n",
      "[1, 3, 5, 7, 9, 11, 13, 15, 17, 19, 21, 23, 25, 27, 29, 31, 33, 35, 37, 39, 41, 43, 45, 47, 49, 51, 53, 55, 57, 59, 61, 63, 65, 67, 69, 71, 73, 75, 77, 79, 81, 83, 85, 87, 89, 91, 93, 95, 97, 99]\n"
     ]
    }
   ],
   "execution_count": 11
  },
  {
   "metadata": {},
   "cell_type": "markdown",
   "source": "# A3",
   "id": "6a81b79aafa927f0"
  },
  {
   "metadata": {
    "ExecuteTime": {
     "end_time": "2024-12-05T12:24:36.727339Z",
     "start_time": "2024-12-05T12:24:36.722628Z"
    }
   },
   "cell_type": "code",
   "source": [
    "woerter = ['Hund', 'Katze', 'Maus', 'Buch', 'Haus', 'Berg', 'Wald', 'Tor', 'Kleid', 'Baum', 'isp', 'nat', 'sek']\n",
    "i = 0\n",
    "for wort in woerter:\n",
    "    if len(wort) > 3:\n",
    "        woerter[i] = wort.upper()\n",
    "    i += 1\n",
    "print(woerter)\n"
   ],
   "id": "cb61027cfc52028b",
   "outputs": [
    {
     "name": "stdout",
     "output_type": "stream",
     "text": [
      "['HUND', 'KATZE', 'MAUS', 'BUCH', 'HAUS', 'BERG', 'WALD', 'Tor', 'KLEID', 'BAUM', 'isp', 'nat', 'sek']\n"
     ]
    }
   ],
   "execution_count": 12
  }
 ],
 "metadata": {
  "kernelspec": {
   "display_name": "Python 3",
   "language": "python",
   "name": "python3"
  },
  "language_info": {
   "codemirror_mode": {
    "name": "ipython",
    "version": 2
   },
   "file_extension": ".py",
   "mimetype": "text/x-python",
   "name": "python",
   "nbconvert_exporter": "python",
   "pygments_lexer": "ipython2",
   "version": "2.7.6"
  }
 },
 "nbformat": 4,
 "nbformat_minor": 5
}
