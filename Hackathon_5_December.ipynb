{
 "cells": [
  {
   "metadata": {},
   "cell_type": "markdown",
   "source": [
    "#### **A1: Zählen der Vokale in einem Text**\n",
    "Du sollst entdecken, wie viele Vokale (a, e, i, o, u, ä, ö, ü) in einem Text vorkommen.\n",
    "- Der Text liegt schon vor (z. B. _\"Ich mag Bananen. Auch In Random Case.\"_).\n",
    "- Jeder Buchstabe des Textes wird überprüft, ob er ein Vokal ist.\n",
    "- Am Ende wird ausgegeben, wie viele Vokale im gesamten Text enthalten sind.\n",
    "- **Tipp:** Groß- und Kleinschreibung soll dabei keine Rolle spielen (z. B. \"A\" und \"a\" zählen als dasselbe)."
   ],
   "id": "11aed700762a5818"
  },
  {
   "cell_type": "code",
   "id": "initial_id",
   "metadata": {
    "collapsed": true,
    "jupyter": {
     "is_executing": true
    }
   },
   "source": [
    "vokalen = ['a', 'i', 'o', 'u', 'ü', 'ö', 'ä']\n",
    "string = \"Ich mag Bananen. aUcH In rAnDoM cAsE.\"\n",
    "vokalen_anzahl = 0\n",
    "for buchstabe in string:\n",
    "    if buchstabe.lower() in vokalen:\n",
    "        vokalen_anzahl += 1\n",
    "print(f\"Anzahl der Vokalen in {string}: {vokalen_anzahl}\")"
   ],
   "outputs": [],
   "execution_count": null
  },
  {
   "metadata": {},
   "cell_type": "markdown",
   "source": [
    "#### **A2: Aufteilen von Zahlen in gerade und ungerade**\n",
    "Hier lernst du, wie man eine Liste von Zahlen in zwei Gruppen teilen kann: gerade und ungerade Zahlen.\n",
    "- Du arbeitest mit den Zahlen von 0 bis 100.\n",
    "- Jede Zahl wird überprüft:\n",
    "    - Wenn die Zahl ohne Rest durch 2 teilbar ist, gehört sie zu den _geraden_ Zahlen.\n",
    "    - Andernfalls gehört sie zu den _ungeraden_ Zahlen.\n",
    "\n",
    "- Am Ende bekommst du zwei Listen: Eine Liste mit allen geraden und eine mit allen ungeraden Zahlen."
   ],
   "id": "b1b0e80819f11394"
  },
  {
   "metadata": {
    "ExecuteTime": {
     "end_time": "2024-12-05T12:22:48.240824Z",
     "start_time": "2024-12-05T12:22:48.237596Z"
    }
   },
   "cell_type": "code",
   "source": [
    "zahlen = list(range(101))\n",
    "gerade = []\n",
    "ungerade = []\n",
    "for zahl in zahlen:\n",
    "    if zahl % 2 == 0:\n",
    "        gerade.append(zahl)\n",
    "    else:\n",
    "        ungerade.append(zahl)\n",
    "print(gerade)\n",
    "print(ungerade)"
   ],
   "id": "dd5d6aca21a639e7",
   "outputs": [
    {
     "name": "stdout",
     "output_type": "stream",
     "text": [
      "[0, 2, 4, 6, 8, 10, 12, 14, 16, 18, 20, 22, 24, 26, 28, 30, 32, 34, 36, 38, 40, 42, 44, 46, 48, 50, 52, 54, 56, 58, 60, 62, 64, 66, 68, 70, 72, 74, 76, 78, 80, 82, 84, 86, 88, 90, 92, 94, 96, 98, 100]\n",
      "[1, 3, 5, 7, 9, 11, 13, 15, 17, 19, 21, 23, 25, 27, 29, 31, 33, 35, 37, 39, 41, 43, 45, 47, 49, 51, 53, 55, 57, 59, 61, 63, 65, 67, 69, 71, 73, 75, 77, 79, 81, 83, 85, 87, 89, 91, 93, 95, 97, 99]\n"
     ]
    }
   ],
   "execution_count": 11
  },
  {
   "metadata": {},
   "cell_type": "markdown",
   "source": [
    "#### **A3: Umwandlung von Wörtern in Großbuchstaben**\n",
    "Diese Aufgabe zeigt dir, wie du Wörter in Großbuchstaben umwandeln kannst, wenn sie länger als 3 Buchstaben sind.\n",
    "- Du hast eine Liste mit verschiedenen Wörtern (z. B. _[\"Hund\", \"Katze\", \"Maus\", usw.]_).\n",
    "- Jedes Wort wird überprüft:\n",
    "    - Wenn es länger als 3 Buchstaben ist, wird es vollständig in Großbuchstaben umgewandelt.\n",
    "    - Kurze Wörter (3 Buchstaben oder weniger) bleiben unverändert.\n",
    "\n",
    "- Am Ende siehst du die aktualisierte Liste mit den entsprechend angepassten Wörtern."
   ],
   "id": "6a81b79aafa927f0"
  },
  {
   "metadata": {
    "jupyter": {
     "is_executing": true
    }
   },
   "cell_type": "code",
   "source": [
    "woerter = ['Hund', 'Katze', 'Maus', 'Buch', 'Haus', 'Berg', 'Wald', 'Tor', 'Kleid', 'Baum', 'isp', 'nat', 'sek']\n",
    "i = 0\n",
    "for wort in woerter:\n",
    "    if len(wort) > 3:\n",
    "        woerter[i] = wort.upper()\n",
    "    i += 1\n",
    "print(woerter)\n"
   ],
   "id": "cb61027cfc52028b",
   "outputs": [],
   "execution_count": null
  },
  {
   "metadata": {},
   "cell_type": "markdown",
   "source": "Diese Aufgaben trainieren sowohl dein Verständnis dafür, wie man durch Listen oder Texte iteriert, als auch dafür, wie man Bedingungen (wie \"größer als\", \"gleich\", \"enthält\") einsetzen kann. Probier’s aus – du wirst überrascht sein, wie viele Möglichkeiten es dafür gibt! 😊",
   "id": "3f9efa7b5972e4f0"
  }
 ],
 "metadata": {
  "kernelspec": {
   "display_name": "Python 3",
   "language": "python",
   "name": "python3"
  },
  "language_info": {
   "codemirror_mode": {
    "name": "ipython",
    "version": 2
   },
   "file_extension": ".py",
   "mimetype": "text/x-python",
   "name": "python",
   "nbconvert_exporter": "python",
   "pygments_lexer": "ipython2",
   "version": "2.7.6"
  }
 },
 "nbformat": 4,
 "nbformat_minor": 5
}
