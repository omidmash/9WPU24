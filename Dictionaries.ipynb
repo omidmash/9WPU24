{
 "cells": [
  {
   "metadata": {
    "ExecuteTime": {
     "end_time": "2025-01-23T10:24:46.255612Z",
     "start_time": "2025-01-23T10:24:46.250181Z"
    }
   },
   "cell_type": "code",
   "source": [
    "x = 1\n",
    "y = 'hallo'\n",
    "z = 1.2\n",
    "print(x, y, z)"
   ],
   "id": "41dd019872afa060",
   "outputs": [
    {
     "name": "stdout",
     "output_type": "stream",
     "text": [
      "1 hallo 1.2\n"
     ]
    }
   ],
   "execution_count": 24
  },
  {
   "metadata": {
    "ExecuteTime": {
     "end_time": "2025-01-23T10:25:34.195764Z",
     "start_time": "2025-01-23T10:25:34.192827Z"
    }
   },
   "cell_type": "code",
   "source": [
    "list = [1, 2, 3, 4, 5]\n",
    "print(list)\n",
    "# lists sind iterable\n",
    "for number in list:\n",
    "    print(number + 10)"
   ],
   "id": "1120bd38dae53cd6",
   "outputs": [
    {
     "name": "stdout",
     "output_type": "stream",
     "text": [
      "[1, 2, 3, 4, 5]\n",
      "11\n",
      "12\n",
      "13\n",
      "14\n",
      "15\n"
     ]
    }
   ],
   "execution_count": 26
  },
  {
   "metadata": {
    "ExecuteTime": {
     "end_time": "2025-01-23T10:28:21.495249Z",
     "start_time": "2025-01-23T10:28:21.492300Z"
    }
   },
   "cell_type": "code",
   "source": [
    "lists_within_lists = [1, [2, 3], 4, \"hallo\"]\n",
    "inner_list = lists_within_lists[1]\n",
    "searched_number = inner_list[1]\n",
    "print(searched_number)"
   ],
   "id": "41d6116c40fe2a79",
   "outputs": [
    {
     "name": "stdout",
     "output_type": "stream",
     "text": [
      "3\n"
     ]
    }
   ],
   "execution_count": 34
  },
  {
   "metadata": {
    "ExecuteTime": {
     "end_time": "2025-01-23T10:31:18.520507Z",
     "start_time": "2025-01-23T10:31:18.518068Z"
    }
   },
   "cell_type": "code",
   "source": [
    "alien_0 = {'color' : 'green', 'points': 5}\n",
    "\n",
    "print(alien_0)\n",
    "\n",
    "print(alien_0['color'])\n",
    "\n",
    "print(alien_0['points'])"
   ],
   "id": "4321f69f596bd2e1",
   "outputs": [
    {
     "name": "stdout",
     "output_type": "stream",
     "text": [
      "{'color': 'green', 'points': 5}\n"
     ]
    }
   ],
   "execution_count": 38
  },
  {
   "metadata": {
    "ExecuteTime": {
     "end_time": "2025-01-23T10:31:01.796574Z",
     "start_time": "2025-01-23T10:31:01.793971Z"
    }
   },
   "cell_type": "code",
   "source": "dictionary = {'key' : 'value'}\n",
   "id": "b68ff600c0dc659",
   "outputs": [
    {
     "name": "stdout",
     "output_type": "stream",
     "text": [
      "{'key': 'value'}\n"
     ]
    }
   ],
   "execution_count": 37
  },
  {
   "metadata": {
    "ExecuteTime": {
     "end_time": "2025-01-23T10:33:06.772553Z",
     "start_time": "2025-01-23T10:33:06.769984Z"
    }
   },
   "cell_type": "code",
   "source": [
    "person = {'vorname' : 'Omid', 'nachname' : 'MZ'}\n",
    "print(person['vorname'])\n",
    "print(f\"Hallo {person['vorname']} {person['nachname']}.\")"
   ],
   "id": "7589dfffa342f8b0",
   "outputs": [
    {
     "name": "stdout",
     "output_type": "stream",
     "text": [
      "Omid\n",
      "Hallo Omid MZ.\n"
     ]
    }
   ],
   "execution_count": 42
  },
  {
   "metadata": {
    "ExecuteTime": {
     "end_time": "2025-01-23T10:34:26.287704Z",
     "start_time": "2025-01-23T10:34:26.284673Z"
    }
   },
   "cell_type": "code",
   "source": [
    "person = {'name' : 'Omid MZ', 'name' : 'Maxim G'}\n",
    "print(person)"
   ],
   "id": "234e7bce7f0e17a2",
   "outputs": [
    {
     "name": "stdout",
     "output_type": "stream",
     "text": [
      "{'name': 'Maxim G'}\n"
     ]
    }
   ],
   "execution_count": 43
  },
  {
   "metadata": {
    "ExecuteTime": {
     "end_time": "2025-01-23T10:37:37.092568Z",
     "start_time": "2025-01-23T10:37:37.089867Z"
    }
   },
   "cell_type": "code",
   "source": [
    "lieblings_essen = {\n",
    "    'omid' : 'pizza',\n",
    "    'maxim' : 'salat',\n",
    "    'petar' : 'sucuk',\n",
    "    'abtin' : 'sucuk'\n",
    "}\n",
    "\n",
    "# print(lieblings_essen['abtin'].title())\n",
    "# print(lieblings_essen['petar'].title())\n",
    "# print(lieblings_essen['maxim'].title())\n",
    "# print(lieblings_essen['omid'].title())\n",
    "print(lieblings_essen['petar'] + ' ' + lieblings_essen['maxim'])"
   ],
   "id": "a40e6660591b311e",
   "outputs": [
    {
     "name": "stdout",
     "output_type": "stream",
     "text": [
      "sucuk salat\n"
     ]
    }
   ],
   "execution_count": 47
  },
  {
   "metadata": {
    "ExecuteTime": {
     "end_time": "2025-01-23T10:39:09.209021Z",
     "start_time": "2025-01-23T10:39:09.205959Z"
    }
   },
   "cell_type": "code",
   "source": [
    "lieblings_essen = {\n",
    "    'omid' : 'pizza',\n",
    "    'maxim' : 'salat',\n",
    "    'petar' : 'sucuk',\n",
    "    'abtin' : 'sucuk'\n",
    "}\n",
    "\n",
    "for key in lieblings_essen.keys():\n",
    "    print(key)\n",
    "\n",
    "for key in lieblings_essen:\n",
    "    print(key)\n",
    "\n",
    "for value in lieblings_essen.values():\n",
    "    print(value)"
   ],
   "id": "1469537bc82810c6",
   "outputs": [
    {
     "name": "stdout",
     "output_type": "stream",
     "text": [
      "omid\n",
      "maxim\n",
      "petar\n",
      "abtin\n",
      "pizza\n",
      "salat\n",
      "sucuk\n",
      "sucuk\n"
     ]
    }
   ],
   "execution_count": 51
  },
  {
   "metadata": {
    "ExecuteTime": {
     "end_time": "2025-01-23T10:40:40.462597Z",
     "start_time": "2025-01-23T10:40:40.459845Z"
    }
   },
   "cell_type": "code",
   "source": [
    "favorite_language = {\n",
    "    'omid' : 'python',\n",
    "    'maxim' : 'c',\n",
    "    'petar' : 'java',\n",
    "    'abtin' : 'python'\n",
    "}\n",
    "\n",
    "print(favorite_language)\n",
    "print(favorite_language['petar'].title())"
   ],
   "id": "3d9e65c68237473",
   "outputs": [
    {
     "name": "stdout",
     "output_type": "stream",
     "text": [
      "{'omid': 'python', 'maxim': 'c', 'petar': 'java', 'abtin': 'python'}\n",
      "Java\n"
     ]
    }
   ],
   "execution_count": 54
  }
 ],
 "metadata": {
  "kernelspec": {
   "display_name": "Python 3",
   "language": "python",
   "name": "python3"
  },
  "language_info": {
   "codemirror_mode": {
    "name": "ipython",
    "version": 2
   },
   "file_extension": ".py",
   "mimetype": "text/x-python",
   "name": "python",
   "nbconvert_exporter": "python",
   "pygments_lexer": "ipython2",
   "version": "2.7.6"
  }
 },
 "nbformat": 4,
 "nbformat_minor": 5
}
