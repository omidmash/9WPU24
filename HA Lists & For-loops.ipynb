{
 "cells": [
  {
   "metadata": {
    "ExecuteTime": {
     "end_time": "2024-11-28T11:18:10.728324Z",
     "start_time": "2024-11-28T11:18:10.726018Z"
    }
   },
   "cell_type": "code",
   "source": [
    "### Aufgabe 1: Summe der Elemente einer Liste berechnen\n",
    "\n",
    "numbers = list(range(1, 11))\n",
    "total = 0\n",
    "for number in numbers:\n",
    "    total += number\n",
    "print(\"Summe der Elemente:\", total)"
   ],
   "id": "5899013212593bc6",
   "outputs": [
    {
     "name": "stdout",
     "output_type": "stream",
     "text": [
      "Summe der Elemente: 55\n"
     ]
    }
   ],
   "execution_count": 5
  },
  {
   "metadata": {
    "ExecuteTime": {
     "end_time": "2024-11-28T11:21:06.210339Z",
     "start_time": "2024-11-28T11:21:06.207741Z"
    }
   },
   "cell_type": "code",
   "source": [
    "### Aufgabe 2: Liste von Quadratzahlen\n",
    "\n",
    "squares = []\n",
    "for i in range(1, 11):\n",
    "    squares.append(i * i)\n",
    "print(\"Quadratzahlen:\", squares)\n"
   ],
   "id": "b544256895318d5d",
   "outputs": [
    {
     "name": "stdout",
     "output_type": "stream",
     "text": [
      "Quadratzahlen: [1, 4, 9, 16, 25, 36, 49, 64, 81, 100]\n"
     ]
    }
   ],
   "execution_count": 6
  },
  {
   "metadata": {
    "ExecuteTime": {
     "end_time": "2024-11-28T11:54:08.177018Z",
     "start_time": "2024-11-28T11:54:08.172970Z"
    }
   },
   "cell_type": "code",
   "source": [
    "### Aufgabe 2 ALT: Liste von Quadratzahlen\n",
    "\n",
    "squares = []\n",
    "for i in range(1, 11):\n",
    "    squares.append(i ** 3)\n",
    "print(\"Quadratzahlen:\", squares)\n"
   ],
   "id": "680416ac54344cb9",
   "outputs": [
    {
     "name": "stdout",
     "output_type": "stream",
     "text": [
      "Quadratzahlen: [1, 8, 27, 64, 125, 216, 343, 512, 729, 1000]\n"
     ]
    }
   ],
   "execution_count": 26
  },
  {
   "cell_type": "code",
   "id": "70ab6968a765bbdc",
   "metadata": {
    "ExecuteTime": {
     "end_time": "2024-11-28T11:23:08.698550Z",
     "start_time": "2024-11-28T11:23:08.695354Z"
    }
   },
   "source": [
    "### Aufgabe 3: Gerade Zahlen filtern\n",
    "\n",
    "numbers = [1, 2, 3, 4, 5, 6]\n",
    "evens = []\n",
    "for number in numbers:\n",
    "    if number % 2 == 0:\n",
    "        evens.append(number)\n",
    "print(\"Gerade Zahlen:\", evens)\n"
   ],
   "outputs": [
    {
     "name": "stdout",
     "output_type": "stream",
     "text": [
      "Gerade Zahlen: [2, 4, 6]\n"
     ]
    }
   ],
   "execution_count": 7
  },
  {
   "cell_type": "code",
   "id": "c46d0b1f9d40c26a",
   "metadata": {
    "ExecuteTime": {
     "end_time": "2024-11-28T11:55:21.431090Z",
     "start_time": "2024-11-28T11:55:21.427769Z"
    }
   },
   "source": [
    "### Aufgabe 4: Wörter in einer Liste zählen\n",
    "\n",
    "words = [\"apple\", \"banana\", \"apple\", \"orange\", \"banana\", \"apple\"]\n",
    "word_count = {}\n",
    "for word in words:\n",
    "    if word in word_count:\n",
    "        word_count[word] += 1\n",
    "    else:\n",
    "        word_count[word] = 1\n",
    "print(\"Wortzählung:\", word_count)\n"
   ],
   "outputs": [
    {
     "name": "stdout",
     "output_type": "stream",
     "text": [
      "Wortzählung: {'apple': 3, 'banana': 2, 'orange': 1}\n"
     ]
    }
   ],
   "execution_count": 27
  },
  {
   "cell_type": "code",
   "id": "fa61df88086fab95",
   "metadata": {
    "ExecuteTime": {
     "end_time": "2024-11-28T11:28:32.478399Z",
     "start_time": "2024-11-28T11:27:52.487857Z"
    }
   },
   "source": [
    "### Aufgabe 5: Liste umkehren\n",
    "\n",
    "lst = [1, 2, 3, 4, 5]\n",
    "reversed_lst = []\n",
    "for i in lst:\n",
    "    reversed_lst.insert(0, i)\n",
    "print(\"Umgekehrte Liste:\", reversed_lst)\n"
   ],
   "outputs": [
    {
     "name": "stdout",
     "output_type": "stream",
     "text": [
      "Umgekehrte Liste: [5, 4, 3, 2, 1]\n"
     ]
    }
   ],
   "execution_count": 3
  },
  {
   "cell_type": "code",
   "id": "1366730effee9b72",
   "metadata": {
    "collapsed": false,
    "ExecuteTime": {
     "end_time": "2024-11-28T11:28:58.568076Z",
     "start_time": "2024-11-28T11:28:58.565135Z"
    }
   },
   "source": [
    "### Aufgabe 6: Durchschnitt berechnen\n",
    "\n",
    "numbers = [1, 2, 3, 4, 5]\n",
    "total = 0\n",
    "count = len(numbers)\n",
    "for number in numbers:\n",
    "    total += number\n",
    "average = total / count\n",
    "print(\"Durchschnitt:\", average)\n"
   ],
   "outputs": [
    {
     "name": "stdout",
     "output_type": "stream",
     "text": [
      "Durchschnitt: 3.0\n"
     ]
    }
   ],
   "execution_count": 4
  },
  {
   "metadata": {
    "ExecuteTime": {
     "end_time": "2024-11-28T11:30:48.486206Z",
     "start_time": "2024-11-28T11:30:48.483582Z"
    }
   },
   "cell_type": "code",
   "source": [
    "numbers = [1, 2, 3, 4, 5]\n",
    "total = 0\n",
    "count = 0\n",
    "for number in numbers:\n",
    "    count += 1\n",
    "    total += number\n",
    "average = total / count\n",
    "print(\"Durchschnitt:\", average)"
   ],
   "id": "9874e11d90d376ab",
   "outputs": [
    {
     "name": "stdout",
     "output_type": "stream",
     "text": [
      "Durchschnitt: 3.0\n"
     ]
    }
   ],
   "execution_count": 5
  },
  {
   "cell_type": "code",
   "id": "90a5712fe9bdfd66",
   "metadata": {
    "ExecuteTime": {
     "end_time": "2024-11-28T11:34:48.659679Z",
     "start_time": "2024-11-28T11:34:48.656313Z"
    }
   },
   "source": [
    "### Aufgabe 7: Liste mit Multiplikationstabelle\n",
    "\n",
    "n = 3\n",
    "table = []\n",
    "for i in range(1, 11):\n",
    "    table.append(n * i)\n",
    "print(\"Multiplikationstabelle für\", n, \":\", table)\n"
   ],
   "outputs": [
    {
     "name": "stdout",
     "output_type": "stream",
     "text": [
      "Multiplikationstabelle für 3 : [3, 6, 9, 12, 15, 18, 21, 24, 27, 30]\n"
     ]
    }
   ],
   "execution_count": 10
  },
  {
   "cell_type": "code",
   "id": "da160a36cc870243",
   "metadata": {
    "ExecuteTime": {
     "end_time": "2024-12-12T13:31:48.496436Z",
     "start_time": "2024-12-12T13:31:48.491265Z"
    }
   },
   "source": [
    "### Aufgabe 8: Liste der Primzahlen\n",
    "\n",
    "n = 20\n",
    "primes = []\n",
    "for num in range(2, n + 1):\n",
    "    is_prime = True\n",
    "    for i in range(2, num):\n",
    "        if num % i == 0:\n",
    "            is_prime = False\n",
    "            break\n",
    "    if is_prime:\n",
    "        primes.append(num)\n",
    "print(\"Primzahlen bis\", n, \":\", primes) #Boolean"
   ],
   "outputs": [
    {
     "name": "stdout",
     "output_type": "stream",
     "text": [
      "Primzahlen bis 20 : [2, 3, 5, 7, 11, 13, 17, 19]\n"
     ]
    }
   ],
   "execution_count": 1
  },
  {
   "cell_type": "code",
   "id": "8c8d3cb6d48bbea5",
   "metadata": {
    "ExecuteTime": {
     "end_time": "2024-11-28T11:35:17.333921Z",
     "start_time": "2024-11-28T11:35:17.331079Z"
    }
   },
   "source": [
    "### Aufgabe 9: Elemente in einer Liste verdoppeln\n",
    "\n",
    "lst = [1, 2, 3, 4, 5]\n",
    "doubled = []\n",
    "for element in lst:\n",
    "    doubled.append(element * 2)\n",
    "print(\"Verdoppelte Elemente:\", doubled)\n"
   ],
   "outputs": [
    {
     "name": "stdout",
     "output_type": "stream",
     "text": [
      "Verdoppelte Elemente: [2, 4, 6, 8, 10]\n"
     ]
    }
   ],
   "execution_count": 11
  },
  {
   "cell_type": "code",
   "id": "e8043bc3a43f2046",
   "metadata": {
    "ExecuteTime": {
     "end_time": "2024-11-28T11:46:18.178492Z",
     "start_time": "2024-11-28T11:46:18.174923Z"
    }
   },
   "source": [
    "### Aufgabe 10: Längste und kürzeste Wörter finden\n",
    "\n",
    "words = [\n",
    "    \"Haus\",\n",
    "    \"Baum\",\n",
    "    \"Wasser\",\n",
    "    \"Auto\",\n",
    "    \"Blume\",\n",
    "    \"Buch\",\n",
    "    \"Stuhl\",\n",
    "    \"Tisch\",\n",
    "    \"Fenster\",\n",
    "    \"Lampe\",\n",
    "    \"Hund\",\n",
    "    \"Katze\",\n",
    "    \"Vogel\",\n",
    "    \"Straße\",\n",
    "    \"Schule\",\n",
    "    \"Zug\",\n",
    "    \"Uhr\",\n",
    "    \"Apfel\",\n",
    "    \"Computer\",\n",
    "    \"Telefon\"\n",
    "]\n",
    "\n",
    "longest = shortest = words[0]\n",
    "\n",
    "for word in words:\n",
    "    if len(word) > len(longest):\n",
    "        longest = word\n",
    "    if len(word) < len(shortest):\n",
    "        shortest = word\n",
    "print(\"Längstes Wort:\", longest)\n",
    "print(\"Kürzestes Wort:\", shortest)\n"
   ],
   "outputs": [
    {
     "name": "stdout",
     "output_type": "stream",
     "text": [
      "Längstes Wort: Computer\n",
      "Kürzestes Wort: Zug\n"
     ]
    }
   ],
   "execution_count": 21
  }
 ],
 "metadata": {
  "kernelspec": {
   "display_name": "Python 3 (ipykernel)",
   "language": "python",
   "name": "python3"
  },
  "language_info": {
   "codemirror_mode": {
    "name": "ipython",
    "version": 3
   },
   "file_extension": ".py",
   "mimetype": "text/x-python",
   "name": "python",
   "nbconvert_exporter": "python",
   "pygments_lexer": "ipython3",
   "version": "3.12.0"
  }
 },
 "nbformat": 4,
 "nbformat_minor": 5
}
