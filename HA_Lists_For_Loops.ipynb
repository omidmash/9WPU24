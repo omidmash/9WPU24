{
 "cells": [
  {
   "metadata": {
    "ExecuteTime": {
     "end_time": "2024-11-27T20:42:09.447434Z",
     "start_time": "2024-11-27T20:42:09.444618Z"
    }
   },
   "cell_type": "code",
   "source": [
    "### Aufgabe 1: Summe der Elemente einer Liste berechnen\n",
    "\n",
    "numbers = [1, 2, 3, 4, 5]\n",
    "total = 0\n",
    "for number in numbers:\n",
    "    total += number\n",
    "print(\"Summe der Elemente:\", total)\n"
   ],
   "id": "36e44a9bb96508bb",
   "outputs": [
    {
     "name": "stdout",
     "output_type": "stream",
     "text": [
      "Summe der Elemente: 15\n"
     ]
    }
   ],
   "execution_count": 42
  },
  {
   "metadata": {},
   "cell_type": "markdown",
   "source": "",
   "id": "26d0038019b97eee"
  },
  {
   "metadata": {
    "ExecuteTime": {
     "end_time": "2024-11-27T20:42:10.923859Z",
     "start_time": "2024-11-27T20:42:10.920158Z"
    }
   },
   "cell_type": "code",
   "source": [
    "### Aufgabe 2: Liste von Quadratzahlen\n",
    "\n",
    "squares = []\n",
    "for i in range(1, 11):\n",
    "    squares.append(i * i)\n",
    "print(\"Quadratzahlen:\", squares)\n"
   ],
   "id": "5899013212593bc6",
   "outputs": [
    {
     "name": "stdout",
     "output_type": "stream",
     "text": [
      "Quadratische Zahlen: [1, 4, 9, 16, 25, 36, 49, 64, 81, 100]\n"
     ]
    }
   ],
   "execution_count": 43
  },
  {
   "metadata": {
    "ExecuteTime": {
     "end_time": "2024-11-27T20:42:12.408371Z",
     "start_time": "2024-11-27T20:42:12.403289Z"
    }
   },
   "cell_type": "code",
   "source": [
    "### Aufgabe 3: Gerade Zahlen filtern\n",
    "\n",
    "numbers = [1, 2, 3, 4, 5, 6]\n",
    "evens = []\n",
    "for number in numbers:\n",
    "    if number % 2 == 0:\n",
    "        evens.append(number)\n",
    "print(\"Gerade Zahlen:\", evens)\n"
   ],
   "id": "70ab6968a765bbdc",
   "outputs": [
    {
     "name": "stdout",
     "output_type": "stream",
     "text": [
      "Gerade Zahlen: [2, 4, 6]\n"
     ]
    }
   ],
   "execution_count": 44
  },
  {
   "metadata": {
    "ExecuteTime": {
     "end_time": "2024-11-27T20:42:13.890090Z",
     "start_time": "2024-11-27T20:42:13.885920Z"
    }
   },
   "cell_type": "code",
   "source": [
    "### Aufgabe 4: Wörter in einer Liste zählen\n",
    "\n",
    "words = [\"apple\", \"banana\", \"apple\", \"orange\", \"banana\", \"apple\"]\n",
    "word_count = {}\n",
    "for word in words:\n",
    "    if word in word_count:\n",
    "        word_count[word] += 1\n",
    "    else:\n",
    "        word_count[word] = 1\n",
    "print(\"Wortzählung:\", word_count)\n"
   ],
   "id": "c46d0b1f9d40c26a",
   "outputs": [
    {
     "name": "stdout",
     "output_type": "stream",
     "text": [
      "Wortzählung: {'apple': 3, 'banana': 2, 'orange': 1}\n"
     ]
    }
   ],
   "execution_count": 45
  },
  {
   "metadata": {
    "ExecuteTime": {
     "end_time": "2024-11-27T20:42:15.413298Z",
     "start_time": "2024-11-27T20:42:15.408748Z"
    }
   },
   "cell_type": "code",
   "source": [
    "### Aufgabe 5: Liste umkehren\n",
    "\n",
    "lst = [1, 2, 3, 4, 5]\n",
    "reversed_lst = []\n",
    "for i in lst:\n",
    "    reversed_lst.insert(0, i)\n",
    "print(\"Umgekehrte Liste:\", reversed_lst)\n"
   ],
   "id": "fa61df88086fab95",
   "outputs": [
    {
     "name": "stdout",
     "output_type": "stream",
     "text": [
      "Umgekehrte Liste: [5, 4, 3, 2, 1]\n"
     ]
    }
   ],
   "execution_count": 46
  },
  {
   "metadata": {
    "ExecuteTime": {
     "end_time": "2024-11-27T20:42:16.690947Z",
     "start_time": "2024-11-27T20:42:16.687289Z"
    }
   },
   "cell_type": "code",
   "source": [
    "### Aufgabe 6: Durchschnitt berechnen\n",
    "\n",
    "numbers = [1, 2, 3, 4, 5]\n",
    "total = 0\n",
    "count = len(numbers)\n",
    "for number in numbers:\n",
    "    total += number\n",
    "average = total / count\n",
    "print(\"Durchschnitt:\", average)\n"
   ],
   "id": "61cd1dd82957e33c",
   "outputs": [
    {
     "name": "stdout",
     "output_type": "stream",
     "text": [
      "Durchschnitt: 3.0\n"
     ]
    }
   ],
   "execution_count": 47
  },
  {
   "metadata": {
    "ExecuteTime": {
     "end_time": "2024-11-27T20:38:18.650363Z",
     "start_time": "2024-11-27T20:38:18.646769Z"
    }
   },
   "cell_type": "code",
   "source": [
    "### Aufgabe 7: Liste mit Multiplikationstabelle\n",
    "\n",
    "n = 5\n",
    "table = []\n",
    "for i in range(1, 11):\n",
    "    table.append(n * i)\n",
    "print(\"Multiplikationstabelle für\", n, \":\", table)\n"
   ],
   "id": "90a5712fe9bdfd66",
   "outputs": [
    {
     "name": "stdout",
     "output_type": "stream",
     "text": [
      "Multiplikationstabelle für 5 : [5, 10, 15, 20, 25, 30, 35, 40, 45, 50]\n"
     ]
    }
   ],
   "execution_count": 32
  },
  {
   "metadata": {
    "ExecuteTime": {
     "end_time": "2024-11-27T18:23:16.377215Z",
     "start_time": "2024-11-27T18:23:16.372574Z"
    }
   },
   "cell_type": "code",
   "source": [
    "### Aufgabe 8: Liste der Primzahlen\n",
    "\n",
    "n = 20\n",
    "primes = []\n",
    "for num in range(2, n + 1):\n",
    "    is_prime = True\n",
    "    for i in range(2, num):\n",
    "        if num % i == 0:\n",
    "            is_prime = False\n",
    "            break\n",
    "    if is_prime:\n",
    "        primes.append(num)\n",
    "print(\"Primzahlen bis\", n, \":\", primes)\n"
   ],
   "id": "da160a36cc870243",
   "outputs": [
    {
     "name": "stdout",
     "output_type": "stream",
     "text": [
      "Primzahlen bis 20 : [2, 3, 5, 7, 11, 13, 17, 19]\n"
     ]
    }
   ],
   "execution_count": 25
  },
  {
   "metadata": {
    "ExecuteTime": {
     "end_time": "2024-11-27T20:37:05.565474Z",
     "start_time": "2024-11-27T20:37:05.560675Z"
    }
   },
   "cell_type": "code",
   "source": [
    "### Aufgabe 9: Elemente in einer Liste verdoppeln\n",
    "\n",
    "lst = [1, 2, 3, 4, 5]\n",
    "doubled = []\n",
    "for element in lst:\n",
    "    doubled.append(element * 2)\n",
    "print(\"Verdoppelte Elemente:\", doubled)\n"
   ],
   "id": "8c8d3cb6d48bbea5",
   "outputs": [
    {
     "name": "stdout",
     "output_type": "stream",
     "text": [
      "Verdoppelte Elemente: [2, 4, 6, 8, 10]\n"
     ]
    }
   ],
   "execution_count": 29
  },
  {
   "metadata": {
    "ExecuteTime": {
     "end_time": "2024-11-27T20:46:09.005648Z",
     "start_time": "2024-11-27T20:46:09.001232Z"
    }
   },
   "cell_type": "code",
   "source": [
    "### Aufgabe 10: Längste und kürzeste Wörter finden\n",
    "\n",
    "words = [\"apple\", \"banana\", \"pear\", \"grape\", \"watermelon\"]\n",
    "\n",
    "longest = shortest = words[0]\n",
    "for word in words:\n",
    "    if len(word) > len(longest):\n",
    "        longest = word\n",
    "    if len(word) < len(shortest):\n",
    "        shortest = word\n",
    "print(\"Längstes Wort:\", longest)\n",
    "print(\"Kürzestes Wort:\", shortest)\n"
   ],
   "id": "e8043bc3a43f2046",
   "outputs": [
    {
     "name": "stdout",
     "output_type": "stream",
     "text": [
      "Längstes Wort: watermelon\n",
      "Kürzestes Wort: pear\n"
     ]
    }
   ],
   "execution_count": 48
  },
  {
   "metadata": {},
   "cell_type": "markdown",
   "source": "",
   "id": "e20772747836d034"
  }
 ],
 "metadata": {
  "kernelspec": {
   "display_name": "Python 3",
   "language": "python",
   "name": "python3"
  },
  "language_info": {
   "codemirror_mode": {
    "name": "ipython",
    "version": 2
   },
   "file_extension": ".py",
   "mimetype": "text/x-python",
   "name": "python",
   "nbconvert_exporter": "python",
   "pygments_lexer": "ipython2",
   "version": "2.7.6"
  }
 },
 "nbformat": 4,
 "nbformat_minor": 5
}
